{
 "cells": [
  {
   "cell_type": "code",
   "execution_count": 146,
   "id": "2b891018",
   "metadata": {},
   "outputs": [],
   "source": [
    "#Becoming a BackProp Ninja"
   ]
  },
  {
   "cell_type": "code",
   "execution_count": 147,
   "id": "df492bbf",
   "metadata": {},
   "outputs": [],
   "source": [
    "#Before moving into RNN, we need one more thing to better at...."
   ]
  },
  {
   "cell_type": "code",
   "execution_count": 148,
   "id": "42774f67",
   "metadata": {},
   "outputs": [],
   "source": [
    "#till now we trained Multi layer perceptron and we are getting pretty good loss. We have good understand of\n",
    "#its architecture and how it works\n",
    "\n",
    "#while analyzing the code, we used loss.backward() - that is we are taking a pytorch autograd and we are using it to\n",
    "#calculate all of our gradients along the way\n",
    "\n",
    "#let us remove this pytorch backward and write our own backward pass manually on the level of tensors\n",
    "\n",
    "#it is very uselful to understand the backward for following reasons...\n",
    "# https://karpathy.medium.com/yes-you-should-understand-backprop-e2f06eab496b\n",
    "#Backprop is leaky abstraction - it will not work optimally if not understood fully"
   ]
  },
  {
   "cell_type": "code",
   "execution_count": 149,
   "id": "5a14a2df",
   "metadata": {},
   "outputs": [],
   "source": [
    "#in micrograd - we implemented ninja backprop, where each backprop is at individual tensor levels\n",
    "#but in large neural network, we need to think as a whole\n",
    "\n",
    "#lets try to implement...."
   ]
  },
  {
   "cell_type": "code",
   "execution_count": 150,
   "id": "b41a3367",
   "metadata": {},
   "outputs": [],
   "source": [
    "from IPython.display import Image\n",
    "from IPython.display import display"
   ]
  },
  {
   "cell_type": "code",
   "execution_count": 151,
   "id": "7cd1c5da",
   "metadata": {},
   "outputs": [],
   "source": [
    "import os    \n",
    "os.environ['KMP_DUPLICATE_LIB_OK'] = 'True'"
   ]
  },
  {
   "cell_type": "markdown",
   "id": "20d07b05",
   "metadata": {},
   "source": [
    "#### Makemore: becoming a backprop ninja"
   ]
  },
  {
   "cell_type": "code",
   "execution_count": 152,
   "id": "512393bd",
   "metadata": {},
   "outputs": [],
   "source": [
    "#copying codes from previous notebooks"
   ]
  },
  {
   "cell_type": "code",
   "execution_count": 290,
   "id": "048f456c",
   "metadata": {},
   "outputs": [],
   "source": [
    "import torch\n",
    "import torch.nn.functional as F\n",
    "import matplotlib.pyplot as plt\n",
    "%matplotlib inline"
   ]
  },
  {
   "cell_type": "code",
   "execution_count": 291,
   "id": "e992f4a9",
   "metadata": {},
   "outputs": [
    {
     "data": {
      "text/plain": [
       "['emma', 'olivia', 'ava', 'isabella', 'sophia', 'charlotte', 'mia', 'amelia']"
      ]
     },
     "execution_count": 291,
     "metadata": {},
     "output_type": "execute_result"
    }
   ],
   "source": [
    "#reading text file and split data and store as list\n",
    "words = open('names.txt').read().splitlines() \n",
    "words[:8]"
   ]
  },
  {
   "cell_type": "code",
   "execution_count": 292,
   "id": "7cc77286",
   "metadata": {},
   "outputs": [
    {
     "data": {
      "text/plain": [
       "32033"
      ]
     },
     "execution_count": 292,
     "metadata": {},
     "output_type": "execute_result"
    }
   ],
   "source": [
    "len(words)"
   ]
  },
  {
   "cell_type": "code",
   "execution_count": 293,
   "id": "403d3ab6",
   "metadata": {},
   "outputs": [
    {
     "name": "stdout",
     "output_type": "stream",
     "text": [
      "{1: 'a', 2: 'b', 3: 'c', 4: 'd', 5: 'e', 6: 'f', 7: 'g', 8: 'h', 9: 'i', 10: 'j', 11: 'k', 12: 'l', 13: 'm', 14: 'n', 15: 'o', 16: 'p', 17: 'q', 18: 'r', 19: 's', 20: 't', 21: 'u', 22: 'v', 23: 'w', 24: 'x', 25: 'y', 26: 'z', 0: '.'}\n",
      "27\n"
     ]
    }
   ],
   "source": [
    "#building vocab of characters and mapping to/from integers\n",
    "chars = sorted(list(set(''.join(words))))\n",
    "stoi = {s: i+1 for i, s in enumerate(chars)}\n",
    "stoi['.'] = 0\n",
    "itos = {i: s for s, i in stoi.items()}\n",
    "vocab_size = len(itos)\n",
    "print(itos)\n",
    "print(vocab_size)"
   ]
  },
  {
   "cell_type": "code",
   "execution_count": 294,
   "id": "b57db2f6",
   "metadata": {},
   "outputs": [
    {
     "name": "stdout",
     "output_type": "stream",
     "text": [
      "torch.Size([182625, 3]) torch.Size([182625])\n",
      "torch.Size([22655, 3]) torch.Size([22655])\n",
      "torch.Size([22866, 3]) torch.Size([22866])\n"
     ]
    }
   ],
   "source": [
    "#buid the dataset\n",
    "block_size = 3 #context length: how many characters do we take to predict the next one\n",
    "\n",
    "def build_dataset(words):\n",
    "    X, Y = [], []\n",
    "    for w in words:\n",
    "        #print(w)\n",
    "        context = [0] * block_size\n",
    "        for ch in w + '.':\n",
    "            ix = stoi[ch]\n",
    "            X.append(context)\n",
    "            Y.append(ix)\n",
    "            context = context[1:] + [ix]\n",
    "    X = torch.tensor(X)\n",
    "    Y = torch.tensor(Y)\n",
    "    print(X.shape, Y.shape)\n",
    "    return X, Y\n",
    "\n",
    "import random\n",
    "random.seed(42)\n",
    "random.shuffle(words) #random shuffling\n",
    "n1 = int(0.8*len(words)) \n",
    "n2 = int(0.9*len(words))\n",
    "\n",
    "Xtr, Ytr = build_dataset(words[:n1]) #80% words in to train dataset\n",
    "Xdev, Ydev = build_dataset(words[n1:n2]) #10% into validation\n",
    "Xte, Yte = build_dataset(words[n2:]) #rest 10% for test"
   ]
  },
  {
   "cell_type": "code",
   "execution_count": 295,
   "id": "d8baeaa5",
   "metadata": {},
   "outputs": [],
   "source": [
    "#utility function that we're going to use later to compare the gradients\n",
    "#in particular we are going to have the gradients that we estimate manually ourselves and we're going to have gradients\n",
    "#that pi torch calculates and will check the correctness, assuming ofcourse pytorch is correct\n",
    "def cmp(s, dt, t): \n",
    "    ex = torch.all(dt == t.grad).item() #check if grad calcuated manully and grad from pytorch is same\n",
    "    app = torch.allclose(dt, t.grad) #check if both are approximately close because of floating point operations\n",
    "    maxdiff = (dt - t.grad).abs().max().item() #finding difference if any between both manualy and pytorch grad\n",
    "    print(f'{s:15s} | exact: {str(ex):5s} | approximate: {str(app):5s} | maxdiff: {maxdiff}') #display all values"
   ]
  },
  {
   "cell_type": "code",
   "execution_count": 296,
   "id": "4ac15610",
   "metadata": {},
   "outputs": [
    {
     "name": "stdout",
     "output_type": "stream",
     "text": [
      "12297\n"
     ]
    }
   ],
   "source": [
    "n_embd = 10 # the dimensionality of the character embedding vectors\n",
    "n_hidden = 200 # the number of neurons in the hidden layer of MLP\n",
    "\n",
    "g = torch.Generator().manual_seed(2147483647) #for reproducability\n",
    "C = torch.randn((vocab_size, n_embd), generator=g)\n",
    "#Layer1\n",
    "W1 = torch.randn((n_embd * block_size, n_hidden), generator=g) * (5/3) / ((n_embd * block_size)**0.5)\n",
    "b1 = torch.randn(n_hidden, generator=g) * 0.1 #normally b2 as zeor's, no need since we use batch norm\n",
    "#Layer2\n",
    "W2 = torch.randn((n_hidden, vocab_size), generator=g) * 0.1  #making W2 smaller by a factor(0.1, 0.01 etc...)\n",
    "b2 = torch.randn(vocab_size, generator=g) * 0.1 #normally b2 as zero's\n",
    "#Batch Norm parameters\n",
    "bngain = torch.randn((1, n_hidden))*0.1 + 1.0 #batch normalization gain\n",
    "bnbias = torch.randn((1, n_hidden))*0.1 #batch normalization bias\n",
    "\n",
    "#Note: I am initializatting many of these parameters in non-standard ways\n",
    "#because sometimes initalizating with e.g. all zeros could mask an incorrect implementation of the backward pass\n",
    "\n",
    "parameters = [C, W1, b1, W2, b2, bngain, bnbias]\n",
    "print(sum(p.nelement() for p in parameters)) #no of parameters in total\n",
    "for p in parameters:\n",
    "    p.requires_grad = True"
   ]
  },
  {
   "cell_type": "code",
   "execution_count": 297,
   "id": "e32e3ce0",
   "metadata": {},
   "outputs": [],
   "source": [
    "batch_size = 32\n",
    "n = batch_size\n",
    "#minibactch construct\n",
    "ix = torch.randint(0, Xtr.shape[0], (batch_size,), generator=g)\n",
    "Xb, Yb = Xtr[ix], Ytr[ix] #bacth X, Y"
   ]
  },
  {
   "cell_type": "code",
   "execution_count": 298,
   "id": "396ad8f7",
   "metadata": {},
   "outputs": [
    {
     "data": {
      "text/plain": [
       "tensor(3.7932, grad_fn=<NegBackward0>)"
      ]
     },
     "execution_count": 298,
     "metadata": {},
     "output_type": "execute_result"
    }
   ],
   "source": [
    "#forward pass, \"chunkated\" into smaller steps that are possible to backward one at a time\n",
    "#reason for forward pass code little longer is ...\n",
    "#explicitly implemented cross entropy loss function\n",
    "#broken up the implementation into manageable chunks, so we have lot more intermediate tensors\n",
    "#and then calculate gradients to back prop the loss from bottom to top.\n",
    "\n",
    "emb = C[Xb] #embed the batch characters into vectors\n",
    "embcat = emb.view(emb.shape[0], -1) #concatenate the vectors\n",
    "#Linear Layer1\n",
    "hprebn = embcat @ W1 + b1 # hidden layer preactivation\n",
    "#BatchNorm Layer\n",
    "bnmeani = 1/n*hprebn.sum(0, keepdim=True)\n",
    "bndiff = hprebn - bnmeani\n",
    "bndiff2 = bndiff**2\n",
    "bnvar = 1/(n-1)*(bndiff2).sum(0, keepdim=True) #note: Bessel's correction (divinding by n-1 not n)\n",
    "bnvar_inv = (bnvar + 1e-5)**-0.5\n",
    "bnraw = bndiff * bnvar_inv\n",
    "hpreact = bngain * bnraw + bnbias\n",
    "#Non-Linearity\n",
    "h = torch.tanh(hpreact) #hidden layer\n",
    "#Linear Layer2\n",
    "logits =h @ W2 + b2 #output layer\n",
    "#cross entropy loss (same as F.cross_entropy(logits, Yb))\n",
    "logit_maxes = logits.max(1, keepdim=True).values\n",
    "norm_logits = logits - logit_maxes #subtract max for numerical stability\n",
    "counts = norm_logits.exp()\n",
    "counts_sum = counts.sum(1, keepdims=True)\n",
    "counts_sum_inv = counts_sum**-1 #if i use (1.0/counts_sum) instead then i cant get backporp to be a bit exact...\n",
    "probs = counts*counts_sum_inv\n",
    "logprobs = probs.log() #we will be calculating d_logprobs i.e. derivative of log probs while backpropagating,\n",
    "#similarly we will be calculating the derivative all these intermediate steps\n",
    "loss = -logprobs[range(n), Yb].mean()\n",
    "\n",
    "#Pytorch backward pass\n",
    "#telling pytorch to retain grads for all these intermediate steps, since we need these values while backpropagation\n",
    "for p in parameters:\n",
    "    p.grad = None\n",
    "for t in [logprobs, probs, counts, counts_sum, counts_sum_inv,  norm_logits, logit_maxes, logits,\n",
    "          h, hpreact, bnraw, bnvar_inv, bnvar, bndiff2, bndiff, hprebn, bnmeani, embcat, emb]:\n",
    "    t.retain_grad()\n",
    "loss.backward()\n",
    "loss"
   ]
  },
  {
   "cell_type": "code",
   "execution_count": 299,
   "id": "1c387639",
   "metadata": {},
   "outputs": [],
   "source": [
    "#Let's begin to implement backprop"
   ]
  },
  {
   "cell_type": "code",
   "execution_count": 300,
   "id": "9d4db7e6",
   "metadata": {},
   "outputs": [
    {
     "name": "stdout",
     "output_type": "stream",
     "text": [
      "logprobs shape: torch.Size([32, 27])\n",
      "Yb: tensor([ 1, 12,  0,  5,  9, 18,  9, 16,  1,  0,  0,  1,  0,  0, 14, 12,  0,  0,\n",
      "         0,  8, 25,  5,  0, 20, 19, 15, 12, 22, 22,  2, 21, 18])\n"
     ]
    }
   ],
   "source": [
    "#Exerxise1: backprop throught the whole thing manually\n",
    "#backpropagating through exactly all of the variables as they are defined in the forward pass above, one by one\n",
    "\n",
    "#we need to understand what should go here to calculate the gradient of loss w.r.t all the elements of logprobs tensor\n",
    "#dlogprobs =   ??\n",
    "#now dlogprobs will hold the derivate of the loss w.r.t all the elements of logprobs\n",
    "#what is inside logprobs ?\n",
    "#lets find the shape of logprobs\n",
    "print('logprobs shape:', logprobs.shape)\n",
    "#32 by 27\n",
    "#so dlogprobs should also be the size of 32 by 27\n",
    "#Now how does the log probs influence the loss ?\n",
    "#loss is negative logprobs indexed  with range of n & Yb and then mean of that...\n",
    "#quick reminder, Yb is just basically an array of all the correct indices of next char\n",
    "print('Yb:', Yb)\n",
    "#so, we are taking the logprobs array of size 32 by 27, and we are going to every single row and in each row,\n",
    "#we are plucking out the index mentioned in the Yb each accrodingly.\n",
    "#for ex. logprobs oth row, will pluck out 1st index column value..."
   ]
  },
  {
   "cell_type": "code",
   "execution_count": 301,
   "id": "c9954caa",
   "metadata": {},
   "outputs": [
    {
     "data": {
      "text/plain": [
       "tensor([-1.6292, -3.8562, -3.7100, -3.4518, -2.9999, -4.8292, -4.9477, -3.6709,\n",
       "        -3.6610, -4.6134, -3.8363, -4.2130, -4.6107, -3.6460, -4.7727, -3.4062,\n",
       "        -5.2719, -3.8596, -4.6536, -2.5760, -3.5993, -5.1702, -2.6093, -4.0145,\n",
       "        -3.6303, -2.8971, -4.7591, -3.2353, -4.6990, -2.7141, -2.7531, -3.0867],\n",
       "       grad_fn=<IndexBackward0>)"
      ]
     },
     "execution_count": 301,
     "metadata": {},
     "output_type": "execute_result"
    }
   ],
   "source": [
    "logprobs[range(n), Yb]"
   ]
  },
  {
   "cell_type": "code",
   "execution_count": 302,
   "id": "6bb506f5",
   "metadata": {},
   "outputs": [
    {
     "name": "stdout",
     "output_type": "stream",
     "text": [
      "torch.Size([32])\n"
     ]
    }
   ],
   "source": [
    "#Therefore logprobs plugs out all those log probabilities of the correct next character in a sequence\n",
    "print(logprobs[range(n), Yb].shape) #has shape of 32 elements\n",
    "#now after taking these 32 values, calculating their mean and negative of that becomes loss."
   ]
  },
  {
   "cell_type": "code",
   "execution_count": 303,
   "id": "3c92fb97",
   "metadata": {},
   "outputs": [],
   "source": [
    "#lets take simple example to understand the numerical form of derivative\n",
    "#loss = -(a + b + c) / 3 since, mean is diving by total element, in our example 3 variables hence divide by 3\n",
    "#so what is dloss / da ?\n",
    "#if simplyfy the loss expression\n",
    "#loss = (-1/3*a) + (-1/3*b) + (-1/3*c)\n",
    "#dloss / da = (-1/3) , since b and c will be 0 and a will cancel and left over with (-1/3) i.e in general (-1/n)"
   ]
  },
  {
   "cell_type": "code",
   "execution_count": 304,
   "id": "94278b68",
   "metadata": {},
   "outputs": [],
   "source": [
    "#therfore, calcuating dlogprobs\n",
    "dlogprobs = torch.zeros_like(logprobs) #to initialize zeros as per size of logprobs, \n",
    "#instead hardcord manual setting like torch.zeros((32, 27)) \n",
    "#now we need to set these values as -1/n for exactly the same location of Yb indexes\n",
    "dlogprobs[range(n), Yb] = -1.0/n"
   ]
  },
  {
   "cell_type": "code",
   "execution_count": 305,
   "id": "a7d0ecfb",
   "metadata": {},
   "outputs": [
    {
     "name": "stdout",
     "output_type": "stream",
     "text": [
      "logprobs        | exact: True  | approximate: True  | maxdiff: 0.0\n"
     ]
    }
   ],
   "source": [
    "cmp('logprobs', dlogprobs, logprobs)"
   ]
  },
  {
   "cell_type": "code",
   "execution_count": 306,
   "id": "e46f5c24",
   "metadata": {},
   "outputs": [],
   "source": [
    "#notice the logprobs and dlogprobs are exact equallity, also approximate equality and max diff is 0\n",
    "#basically, our dlogprobs is exact equal to what pytorch calculate the logprobs.grad in its back propagation\n",
    "#so far, going well"
   ]
  },
  {
   "cell_type": "code",
   "execution_count": 307,
   "id": "38f42682",
   "metadata": {},
   "outputs": [],
   "source": [
    "#Lets continue our backprop\n",
    "#we have logprobs depends on probs through a log function\n",
    "#so all the elements of probs are being element wise applied log fn\n",
    "#now if we want dprobs, then remember in micrograd training we had a log node, it takes in probs and creates log probs\n",
    "#then dprobs will be the local derivative of that individual operation log times the derivative loss w.r.t its output,\n",
    "#i.e. in this case, it is dlogprobs\n",
    "\n",
    "#what is the local derivative of probs.log() ?? \n",
    "#we know d/dx(log(x)) = 1/x\n",
    "#in our case x = probs, therefore\n",
    "dprobs = (1.0 / probs ) * dlogprobs #since applying chain rule i.e w.r.t to all elements till that point"
   ]
  },
  {
   "cell_type": "code",
   "execution_count": 308,
   "id": "dcfe97bd",
   "metadata": {},
   "outputs": [
    {
     "name": "stdout",
     "output_type": "stream",
     "text": [
      "logprobs        | exact: True  | approximate: True  | maxdiff: 0.0\n",
      "probs           | exact: True  | approximate: True  | maxdiff: 0.0\n"
     ]
    }
   ],
   "source": [
    "cmp('logprobs', dlogprobs, logprobs)\n",
    "cmp('probs', dprobs, probs)"
   ]
  },
  {
   "cell_type": "code",
   "execution_count": 309,
   "id": "c40e8722",
   "metadata": {},
   "outputs": [],
   "source": [
    "#notice the derivative of dprobs is exactly similar to that of probs grad calculated by pytorch fn"
   ]
  },
  {
   "cell_type": "code",
   "execution_count": 310,
   "id": "bb8f8266",
   "metadata": {},
   "outputs": [],
   "source": [
    "#notice how dprobs, dprobs = (1.0 / probs ) * dlogprobs works !!\n",
    "#probs are inverted and then element wise multiplied\n",
    "#if probs is very very close to 1, i.e. network is predicting the character correctly, then dlogprobs is just passed through\n",
    "#but if probabilities are incorrectly assigned i.e. correct char getting low probability then\n",
    "# 1.0 / probs will boost the value\n",
    "#intutively, dprobs takes low prob assigned and boosting their gradient"
   ]
  },
  {
   "cell_type": "code",
   "execution_count": 311,
   "id": "62da6796",
   "metadata": {},
   "outputs": [],
   "source": [
    "#Next up is counts_sum_inv\n",
    "#lets understand what is happening at this step\n",
    "#first logits coming out from final output layer, \n",
    "#we are finding the maximum in each row using logit_maxes=logits.max(1, keepdim=True).values\n",
    "#then we are subtracting it from each of logits for the purpose of numerical stability using norm_logits=logits-logit_maxes\n",
    "#we discussed without this, if logit values are too large, we will end up exponating while applying softmax\n",
    "#Finally, we are exponentiation of logits to create our counts and then we will take sum of counts and normalize\n",
    "#so all of the probs sum up to 1"
   ]
  },
  {
   "cell_type": "code",
   "execution_count": 312,
   "id": "2485b04c",
   "metadata": {},
   "outputs": [],
   "source": [
    "#we need to backpropagate to counts_sum_inv and then to counts\n",
    "#need to careful because shape of counts_sum_inv and counts are same. why, lets scrutinize !!"
   ]
  },
  {
   "cell_type": "code",
   "execution_count": 313,
   "id": "e93c2097",
   "metadata": {},
   "outputs": [
    {
     "data": {
      "text/plain": [
       "(torch.Size([32, 1]), torch.Size([32, 27]))"
      ]
     },
     "execution_count": 313,
     "metadata": {},
     "output_type": "execute_result"
    }
   ],
   "source": [
    "counts_sum_inv.shape, counts.shape"
   ]
  },
  {
   "cell_type": "code",
   "execution_count": 314,
   "id": "e4491f32",
   "metadata": {},
   "outputs": [],
   "source": [
    "#counts_sum_inv is (32, 1) but counts is (32, 27)"
   ]
  },
  {
   "cell_type": "code",
   "execution_count": 315,
   "id": "c2e48df0",
   "metadata": {},
   "outputs": [],
   "source": [
    "#so while doing probs = counts * counts_sum_inv, we have an implicit broadcasting that pytorch will do\n",
    "#it will take column tensor 32 no's  and replicate horizontally 27 times to align these 2 tensors\n",
    "#so it can do element wise multiplication"
   ]
  },
  {
   "cell_type": "code",
   "execution_count": 316,
   "id": "7de479e6",
   "metadata": {},
   "outputs": [],
   "source": [
    "#Lets take a toy example and understand this \n",
    "#c = a * b but with tensors:\n",
    "#a[3x3] * b[3x1]\n",
    "#a11*b1 a12*b1 a13*b1 first element of b is replicated for all the rows of a\n",
    "#a21*b2 a22*b2 a23*b2 similarly 2nd element of b to a\n",
    "#a31*b3 a32*b3 a33*b3\n",
    "#c[3x3]\n",
    "#how do we backprop the multiplication\n",
    "#d/db(c) = a  local derivative - since b becomes 1 and we left over with a"
   ]
  },
  {
   "cell_type": "code",
   "execution_count": 317,
   "id": "25b35b19",
   "metadata": {},
   "outputs": [],
   "source": [
    "#in our case, undoing the multiplication and back propagating through just multiplication itself which is element wise\n",
    "#is going to be the local derivative, which in this case is d\n",
    "dcounts_sum_inv = counts * dprobs #because of chain rule, multiply with previous grad dprobs\n",
    "#this is the derivative or the gradient but w.r.t replicated B, but we dont have a replicaed B\n",
    "#we just have a single B column \n",
    "#so how do we now back propagate thorugh the replication and intutively this b1 is just same variable and its just \n",
    "#reused multiple times. take a look at case we encountered in micrograd like\n",
    "#single node has its output feeding into 2 branches of basically the graph until the last function \n",
    "#we're talking about how the correct thing to do in backward pass is we need to sum all the gradients that arrive at any \n",
    "#one node, so across these different branches the gradients would sum\n",
    "#so if a node is used multiple times the gradients for all of its uses, sum during back propagation\n",
    "\n",
    "#Therefore in our example right thing to do is sum horizontally across all the rows \n",
    "dcounts_sum_inv = (counts * dprobs).sum(1, keepdim = True) #keepdim = true to make size same as counts_sum_inv"
   ]
  },
  {
   "cell_type": "code",
   "execution_count": 318,
   "id": "cbd30207",
   "metadata": {},
   "outputs": [
    {
     "name": "stdout",
     "output_type": "stream",
     "text": [
      "logprobs        | exact: True  | approximate: True  | maxdiff: 0.0\n",
      "probs           | exact: True  | approximate: True  | maxdiff: 0.0\n",
      "counts_sum_inv  | exact: True  | approximate: True  | maxdiff: 0.0\n"
     ]
    }
   ],
   "source": [
    "cmp('logprobs', dlogprobs, logprobs)\n",
    "cmp('probs', dprobs, probs)\n",
    "cmp('counts_sum_inv', dcounts_sum_inv, counts_sum_inv)"
   ]
  },
  {
   "cell_type": "code",
   "execution_count": 319,
   "id": "088780c2",
   "metadata": {},
   "outputs": [],
   "source": [
    "#notice the derivatives match exactly"
   ]
  },
  {
   "cell_type": "code",
   "execution_count": 320,
   "id": "c8e13239",
   "metadata": {},
   "outputs": [],
   "source": [
    "#now, lets also backpropagate into counts which is the other variable here to create probs\n",
    "dcounts = (counts_sum_inv * dprobs)\n",
    "#counts_sum_inv is 32 by 1, dprobs is 32 by 27 - broadcast will work fine, no additional summation required\n",
    "#counts_sum_inv needs to be replicated again to correctly multiply dprobs"
   ]
  },
  {
   "cell_type": "code",
   "execution_count": 321,
   "id": "369300e5",
   "metadata": {},
   "outputs": [],
   "source": [
    "#we back propagated from props to counts, but we cant actually validate the derivative counts, reason ?\n",
    "#counts_sum_inv also depends on counts i.e. we also have a 2nd branch need to be checked\n",
    "#Because counts_sum_inv back propagates into counts_sum & counts_sum will back propagate to counts\n",
    "#so, counts is a node that is being used twice\n",
    "#therefore we need to calculate the 2nd contribution of counts\n",
    "#lets calculate the derivative of count_sum"
   ]
  },
  {
   "cell_type": "code",
   "execution_count": 322,
   "id": "33a68b3d",
   "metadata": {},
   "outputs": [],
   "source": [
    "#d/dx(1/x) = (1/x**2)\n",
    "dcounts_sum = -(counts_sum**-2) * dcounts_sum_inv #by chain rule "
   ]
  },
  {
   "cell_type": "code",
   "execution_count": 323,
   "id": "5b422394",
   "metadata": {},
   "outputs": [
    {
     "name": "stdout",
     "output_type": "stream",
     "text": [
      "logprobs        | exact: True  | approximate: True  | maxdiff: 0.0\n",
      "probs           | exact: True  | approximate: True  | maxdiff: 0.0\n",
      "counts_sum_inv  | exact: True  | approximate: True  | maxdiff: 0.0\n",
      "counts_sum      | exact: True  | approximate: True  | maxdiff: 0.0\n"
     ]
    }
   ],
   "source": [
    "cmp('logprobs', dlogprobs, logprobs)\n",
    "cmp('probs', dprobs, probs)\n",
    "cmp('counts_sum_inv', dcounts_sum_inv, counts_sum_inv)\n",
    "cmp('counts_sum', dcounts_sum, counts_sum)"
   ]
  },
  {
   "cell_type": "code",
   "execution_count": 324,
   "id": "642b6b4b",
   "metadata": {},
   "outputs": [],
   "source": [
    "#well we are derivating equally as per pytorch"
   ]
  },
  {
   "cell_type": "code",
   "execution_count": 325,
   "id": "1227a7ec",
   "metadata": {},
   "outputs": [],
   "source": [
    "#next we want to backpropagate through #counts_sum = counts.sum(1, keepdims=True) i.e. counts.sum along the rows"
   ]
  },
  {
   "cell_type": "code",
   "execution_count": 326,
   "id": "927ab93c",
   "metadata": {},
   "outputs": [
    {
     "data": {
      "text/plain": [
       "(torch.Size([32, 27]), torch.Size([32, 1]))"
      ]
     },
     "execution_count": 326,
     "metadata": {},
     "output_type": "execute_result"
    }
   ],
   "source": [
    "counts.shape, counts_sum.shape"
   ]
  },
  {
   "cell_type": "code",
   "execution_count": 327,
   "id": "241008c1",
   "metadata": {},
   "outputs": [],
   "source": [
    "#so in this backprop we need to take columns of counts_sum derivatives and transform it into a array of derivatives\n",
    "#2 -dim array"
   ]
  },
  {
   "cell_type": "code",
   "execution_count": 328,
   "id": "f6b93493",
   "metadata": {},
   "outputs": [],
   "source": [
    "#eg:\n",
    "#a11 a12 a13 ---> b1 = (a11 + a12 + a13)\n",
    "#a21 a22 a23 ---> b2 = (a11 + a22 + a23)\n",
    "#a31 a32 a33 ---> b3 = (a31 + a32 + a33)\n",
    "#we are taking 3*3 matrix array and we are summing up the rows into a column tensor b\n",
    "#now, we have the derivatives of the loss w.r.t b\n",
    "#but we want to derivative loss with respect to all the 3*3 matrix tensors"
   ]
  },
  {
   "cell_type": "code",
   "execution_count": 329,
   "id": "edd1746e",
   "metadata": {},
   "outputs": [],
   "source": [
    "#in micrograd, we learnt basicall add '+' operator just routes the gradient from upper to its child equally"
   ]
  },
  {
   "cell_type": "code",
   "execution_count": 330,
   "id": "c6c20c59",
   "metadata": {},
   "outputs": [],
   "source": [
    "dcounts += torch.ones_like(counts) * dcounts_sum #broadcasting counts_sum to counts\n",
    "#adding because we already calculated dcounts in another branch"
   ]
  },
  {
   "cell_type": "code",
   "execution_count": 331,
   "id": "1db93f38",
   "metadata": {},
   "outputs": [
    {
     "name": "stdout",
     "output_type": "stream",
     "text": [
      "logprobs        | exact: True  | approximate: True  | maxdiff: 0.0\n",
      "probs           | exact: True  | approximate: True  | maxdiff: 0.0\n",
      "counts_sum_inv  | exact: True  | approximate: True  | maxdiff: 0.0\n",
      "counts_sum      | exact: True  | approximate: True  | maxdiff: 0.0\n",
      "counts          | exact: True  | approximate: True  | maxdiff: 0.0\n"
     ]
    }
   ],
   "source": [
    "cmp('logprobs', dlogprobs, logprobs)\n",
    "cmp('probs', dprobs, probs)\n",
    "cmp('counts_sum_inv', dcounts_sum_inv, counts_sum_inv)\n",
    "cmp('counts_sum', dcounts_sum, counts_sum)\n",
    "cmp('counts', dcounts, counts)"
   ]
  },
  {
   "cell_type": "code",
   "execution_count": 332,
   "id": "c5a16a00",
   "metadata": {},
   "outputs": [],
   "source": [
    "#next counts is element wise exponential of norm logits\n",
    "#because it is element wise operations, everything is simple \n",
    "#local derivative of d/dx(e^x) = e^x\n",
    "#therefore dnormlogits = (norm_logits.exp())  \n",
    "#we alerady calculate it and it's inside counts, since counts = norm_logits.exp()\n",
    "dnorm_logits = counts * dcounts #by chain rule"
   ]
  },
  {
   "cell_type": "code",
   "execution_count": 333,
   "id": "1c034cf8",
   "metadata": {},
   "outputs": [
    {
     "name": "stdout",
     "output_type": "stream",
     "text": [
      "logprobs        | exact: True  | approximate: True  | maxdiff: 0.0\n",
      "probs           | exact: True  | approximate: True  | maxdiff: 0.0\n",
      "counts_sum_inv  | exact: True  | approximate: True  | maxdiff: 0.0\n",
      "counts_sum      | exact: True  | approximate: True  | maxdiff: 0.0\n",
      "counts          | exact: True  | approximate: True  | maxdiff: 0.0\n",
      "norm_logits     | exact: True  | approximate: True  | maxdiff: 0.0\n"
     ]
    }
   ],
   "source": [
    "cmp('logprobs', dlogprobs, logprobs)\n",
    "cmp('probs', dprobs, probs)\n",
    "cmp('counts_sum_inv', dcounts_sum_inv, counts_sum_inv)\n",
    "cmp('counts_sum', dcounts_sum, counts_sum)\n",
    "cmp('counts', dcounts, counts)\n",
    "cmp('norm_logits', dnorm_logits, norm_logits)"
   ]
  },
  {
   "cell_type": "code",
   "execution_count": 334,
   "id": "90b74d50",
   "metadata": {},
   "outputs": [],
   "source": [
    "#next norm_logits = logits - logit_maxes\n",
    "#becareful with the shapes - they are not same, & notice internal broadcasting happens"
   ]
  },
  {
   "cell_type": "code",
   "execution_count": 335,
   "id": "f4bbf38b",
   "metadata": {},
   "outputs": [
    {
     "data": {
      "text/plain": [
       "(torch.Size([32, 27]), torch.Size([32, 27]), torch.Size([32, 1]))"
      ]
     },
     "execution_count": 335,
     "metadata": {},
     "output_type": "execute_result"
    }
   ],
   "source": [
    "norm_logits.shape, logits.shape, logit_maxes.shape\n",
    "#there is broacast happening at Minus: logits - logit_maxes"
   ]
  },
  {
   "cell_type": "code",
   "execution_count": 336,
   "id": "bf60d00b",
   "metadata": {},
   "outputs": [],
   "source": [
    "#lets understand with e.g.\n",
    "#basically something like c = a - b\n",
    "#c11 c12 c13 = a11 a12 a13   b1\n",
    "#c21 c22 c23 = a21 a22 a23 - b2\n",
    "#c31 c32 c33 = a31 a32 a33   b3\n",
    "\n",
    "#so e.g. tensor c32 = a32 - b3\n",
    "#every element of c is just corresponding element of a minus associate b\n",
    "\n",
    "#notice how b is broadcasted \n",
    "\n",
    "#the derivatives of every one of C's with respect to their inputs are one for the corresponding a and \n",
    "#negative one for the corresponding b\n",
    "#the derivatives on the c will flow equally to the corresponding a's and then also to the corresponding b's but then\n",
    "#in addition to that b's are broadcast,so we'll have to do the additional sum just like before\n",
    "#ofcourse derivatives for b's will undergo a minus because the local derivative here is -1 i.e. dc/db = -1"
   ]
  },
  {
   "cell_type": "code",
   "execution_count": 337,
   "id": "82bc546b",
   "metadata": {},
   "outputs": [],
   "source": [
    "#dlogits will be exactly copyinng the derivative of dnorm_logits\n",
    "dlogits = dnorm_logits.clone() #just taking copy\n",
    "#dlogit_mazes will be negative of dnorm_logits\n",
    "dlogit_maxes = -(dnorm_logits).sum(1, keepdim=True) #logit_maxes is column\n",
    "#doing sum and keepdim = True because this will be broadcasted along column"
   ]
  },
  {
   "cell_type": "code",
   "execution_count": 338,
   "id": "ed00a853",
   "metadata": {},
   "outputs": [],
   "source": [
    "#notice dlogits calculated above is not final, because\n",
    "#not only we get gradients inot logits but logit_maxes is a function of logits and ther's a 2nd branch into logits\n",
    "#we will comeback to logits later"
   ]
  },
  {
   "cell_type": "code",
   "execution_count": 339,
   "id": "477f3108",
   "metadata": {},
   "outputs": [
    {
     "name": "stdout",
     "output_type": "stream",
     "text": [
      "logits          | exact: False | approximate: True  | maxdiff: 4.889443516731262e-09\n"
     ]
    }
   ],
   "source": [
    "cmp('logits', dlogits, logits)\n",
    "#notice the difference in logits, as still need to accomodate the 2nd brach for logits"
   ]
  },
  {
   "cell_type": "code",
   "execution_count": 340,
   "id": "2394fecf",
   "metadata": {},
   "outputs": [
    {
     "name": "stdout",
     "output_type": "stream",
     "text": [
      "logprobs        | exact: True  | approximate: True  | maxdiff: 0.0\n",
      "probs           | exact: True  | approximate: True  | maxdiff: 0.0\n",
      "counts_sum_inv  | exact: True  | approximate: True  | maxdiff: 0.0\n",
      "counts_sum      | exact: True  | approximate: True  | maxdiff: 0.0\n",
      "counts          | exact: True  | approximate: True  | maxdiff: 0.0\n",
      "norm_logits     | exact: True  | approximate: True  | maxdiff: 0.0\n",
      "logit_maxes     | exact: True  | approximate: True  | maxdiff: 0.0\n"
     ]
    }
   ],
   "source": [
    "#only dlogit_maxes id the final derivative. so lets compare\n",
    "cmp('logprobs', dlogprobs, logprobs)\n",
    "cmp('probs', dprobs, probs)\n",
    "cmp('counts_sum_inv', dcounts_sum_inv, counts_sum_inv)\n",
    "cmp('counts_sum', dcounts_sum, counts_sum)\n",
    "cmp('counts', dcounts, counts)\n",
    "cmp('norm_logits', dnorm_logits, norm_logits)\n",
    "cmp('logit_maxes', dlogit_maxes, logit_maxes)"
   ]
  },
  {
   "cell_type": "code",
   "execution_count": 341,
   "id": "277f4293",
   "metadata": {},
   "outputs": [],
   "source": [
    "#before we move one, lets understand about logit_maxes and especially their gradients\n",
    "#we are doing the step norm_logits = logits - logit_maxes for numerical stability of the softmax we are implementing\n",
    "#we know, taking any tensor matrix and we add/subtract equally to all the elements of tensor then the value of probs\n",
    "#will be unchanged; we are not changing the softmax\n",
    "#only thing that this will do is making sure exp() not overflow\n",
    "#reason we are using a max is because then we are guaranteed that each row of the logit the highest no is 0\n",
    "#so, exp() will be safe\n",
    "#this step has repercussions\n",
    "#if it is the case that changing logit_maxes does not change the probs and therefore there's not change in loss then\n",
    "#the gradient on logit_maxes should be zero\n",
    "#indeex checking logit_maxes, values are very very small"
   ]
  },
  {
   "cell_type": "code",
   "execution_count": 342,
   "id": "d2357de1",
   "metadata": {},
   "outputs": [
    {
     "data": {
      "text/plain": [
       "tensor([[ 1.2806e-09],\n",
       "        [ 2.3283e-10],\n",
       "        [-2.3283e-09],\n",
       "        [ 4.8894e-09],\n",
       "        [ 4.1910e-09],\n",
       "        [ 6.9849e-10],\n",
       "        [ 3.0268e-09],\n",
       "        [-1.1642e-09],\n",
       "        [-1.3970e-09],\n",
       "        [ 2.3283e-10],\n",
       "        [-4.1910e-09],\n",
       "        [-2.5611e-09],\n",
       "        [ 9.3132e-10],\n",
       "        [ 9.3132e-10],\n",
       "        [-1.8626e-09],\n",
       "        [-9.3132e-10],\n",
       "        [-0.0000e+00],\n",
       "        [ 3.6089e-09],\n",
       "        [-9.3132e-10],\n",
       "        [-1.1642e-09],\n",
       "        [ 2.3283e-10],\n",
       "        [ 2.3283e-10],\n",
       "        [-4.8894e-09],\n",
       "        [-4.6566e-10],\n",
       "        [-3.7253e-09],\n",
       "        [-0.0000e+00],\n",
       "        [ 4.6566e-10],\n",
       "        [ 1.8626e-09],\n",
       "        [-4.8894e-09],\n",
       "        [-1.1642e-09],\n",
       "        [-0.0000e+00],\n",
       "        [ 1.8626e-09]], grad_fn=<NegBackward0>)"
      ]
     },
     "execution_count": 342,
     "metadata": {},
     "output_type": "execute_result"
    }
   ],
   "source": [
    "dlogit_maxes"
   ]
  },
  {
   "cell_type": "code",
   "execution_count": 343,
   "id": "c4195b4b",
   "metadata": {},
   "outputs": [],
   "source": [
    "#it feels wierd to back propagate through this branch honestly\n",
    "#but pytorch implementation of this cross entropy, we'll block all these elements  and we're not doing backpropagate \n",
    "#piece by piece, we will assume that derivate through logit_maxes is exactly zero i.e. skipping this branch\n",
    "#values of these branch is not matter w.r.t final loss"
   ]
  },
  {
   "cell_type": "code",
   "execution_count": 344,
   "id": "5d57e83f",
   "metadata": {},
   "outputs": [],
   "source": [
    "#lets continue to backpropagate through the code # logit_maxes = logits.max(1, keepdim=True).values\n",
    "#here we took logits and we took the max along all the rows and then we looked at its values\n",
    "#lets see how it looks in pytorch"
   ]
  },
  {
   "cell_type": "code",
   "execution_count": 345,
   "id": "5e3f6c9a",
   "metadata": {},
   "outputs": [
    {
     "data": {
      "text/plain": [
       "torch.return_types.max(\n",
       "values=tensor([[2.0854],\n",
       "        [1.0133],\n",
       "        [1.7638],\n",
       "        [1.1650],\n",
       "        [1.6235],\n",
       "        [1.6857],\n",
       "        [1.6086],\n",
       "        [0.7135],\n",
       "        [1.2535],\n",
       "        [1.8243],\n",
       "        [2.4218],\n",
       "        [1.9293],\n",
       "        [2.1878],\n",
       "        [2.0516],\n",
       "        [2.0386],\n",
       "        [2.3344],\n",
       "        [2.0810],\n",
       "        [2.7363],\n",
       "        [2.8291],\n",
       "        [0.7135],\n",
       "        [2.1842],\n",
       "        [1.2363],\n",
       "        [1.3116],\n",
       "        [1.4915],\n",
       "        [1.8405],\n",
       "        [1.0793],\n",
       "        [2.1424],\n",
       "        [0.8811],\n",
       "        [1.4251],\n",
       "        [0.7135],\n",
       "        [1.1616],\n",
       "        [0.7135]], grad_fn=<MaxBackward0>),\n",
       "indices=tensor([[ 1],\n",
       "        [26],\n",
       "        [15],\n",
       "        [25],\n",
       "        [ 6],\n",
       "        [11],\n",
       "        [14],\n",
       "        [11],\n",
       "        [22],\n",
       "        [ 4],\n",
       "        [14],\n",
       "        [24],\n",
       "        [ 5],\n",
       "        [ 5],\n",
       "        [24],\n",
       "        [ 9],\n",
       "        [10],\n",
       "        [ 5],\n",
       "        [ 5],\n",
       "        [11],\n",
       "        [ 9],\n",
       "        [20],\n",
       "        [19],\n",
       "        [13],\n",
       "        [24],\n",
       "        [ 3],\n",
       "        [19],\n",
       "        [ 2],\n",
       "        [24],\n",
       "        [11],\n",
       "        [ 8],\n",
       "        [11]]))"
      ]
     },
     "execution_count": 345,
     "metadata": {},
     "output_type": "execute_result"
    }
   ],
   "source": [
    "logits.max(1, keepdim=True)"
   ]
  },
  {
   "cell_type": "code",
   "execution_count": 346,
   "id": "479b6953",
   "metadata": {},
   "outputs": [],
   "source": [
    "#max returns both the values and also the indices at which those max values are found\n",
    "#in forward pass we only used values because thats what we need\n",
    "#but in backward pass its extremely useful to know about where those max values occur and we have the indices of occurence\n",
    "#this will help us to do back propagation"
   ]
  },
  {
   "cell_type": "code",
   "execution_count": 347,
   "id": "3a61ffcc",
   "metadata": {},
   "outputs": [
    {
     "data": {
      "text/plain": [
       "torch.Size([32, 27])"
      ]
     },
     "execution_count": 347,
     "metadata": {},
     "output_type": "execute_result"
    }
   ],
   "source": [
    "logits.shape"
   ]
  },
  {
   "cell_type": "code",
   "execution_count": 348,
   "id": "8f945758",
   "metadata": {},
   "outputs": [],
   "source": [
    "#logits shape is 32 * 27\n",
    "# each row we find the max value and that values plucked out into logit_maxes\n",
    "#intutively, the derivative flowing through here then should be 1 i.e. derivative is 1 for appropriate entry of max value\n",
    "#that was plucked out times the global derivative of logit_maxes"
   ]
  },
  {
   "cell_type": "code",
   "execution_count": 349,
   "id": "c775de76",
   "metadata": {},
   "outputs": [],
   "source": [
    "#what we're doing here is we need to take the dlogit_maxes and we need to scatter it to the correct positions in \n",
    "#these logits from where the maximum values came !!\n",
    "#we leverage torch.one hot and then taking the max function - index values and telling dim of each should be 27"
   ]
  },
  {
   "cell_type": "code",
   "execution_count": 350,
   "id": "afd213c4",
   "metadata": {},
   "outputs": [
    {
     "data": {
      "text/plain": [
       "<matplotlib.image.AxesImage at 0x1eea52b8dc0>"
      ]
     },
     "execution_count": 350,
     "metadata": {},
     "output_type": "execute_result"
    },
    {
     "data": {
      "image/png": "[encoded data removed]",
      "text/plain": [
       "<Figure size 432x288 with 1 Axes>"
      ]
     },
     "metadata": {
      "needs_background": "light"
     },
     "output_type": "display_data"
    }
   ],
   "source": [
    "plt.imshow(F.one_hot(logits.max(1).indices, num_classes=logits.shape[1]))\n",
    "#really just an array of where the maxes came from in each row that element is 1 and all others are 0"
   ]
  },
  {
   "cell_type": "code",
   "execution_count": 351,
   "id": "25c4598f",
   "metadata": {},
   "outputs": [
    {
     "data": {
      "text/plain": [
       "torch.Size([32, 1])"
      ]
     },
     "execution_count": 351,
     "metadata": {},
     "output_type": "execute_result"
    }
   ],
   "source": [
    "dlogit_maxes.shape\n",
    "#32 * 1 which will broadcast to 1-hot vector of 32 * 27\n",
    "#element wise multiplication and ensure grad's are routed to whichever 1 bits is turned"
   ]
  },
  {
   "cell_type": "code",
   "execution_count": 352,
   "id": "cf09b3f7",
   "metadata": {},
   "outputs": [],
   "source": [
    "dlogits += F.one_hot(logits.max(1).indices, num_classes=logits.shape[1]) * dlogit_maxes\n",
    "# + because we already calculated logits and adding 2nd branch"
   ]
  },
  {
   "cell_type": "code",
   "execution_count": 353,
   "id": "5cd1c493",
   "metadata": {},
   "outputs": [
    {
     "name": "stdout",
     "output_type": "stream",
     "text": [
      "logprobs        | exact: True  | approximate: True  | maxdiff: 0.0\n",
      "probs           | exact: True  | approximate: True  | maxdiff: 0.0\n",
      "counts_sum_inv  | exact: True  | approximate: True  | maxdiff: 0.0\n",
      "counts_sum      | exact: True  | approximate: True  | maxdiff: 0.0\n",
      "counts          | exact: True  | approximate: True  | maxdiff: 0.0\n",
      "norm_logits     | exact: True  | approximate: True  | maxdiff: 0.0\n",
      "logit_maxes     | exact: True  | approximate: True  | maxdiff: 0.0\n",
      "logits          | exact: True  | approximate: True  | maxdiff: 0.0\n"
     ]
    }
   ],
   "source": [
    "cmp('logprobs', dlogprobs, logprobs)\n",
    "cmp('probs', dprobs, probs)\n",
    "cmp('counts_sum_inv', dcounts_sum_inv, counts_sum_inv)\n",
    "cmp('counts_sum', dcounts_sum, counts_sum)\n",
    "cmp('counts', dcounts, counts)\n",
    "cmp('norm_logits', dnorm_logits, norm_logits)\n",
    "cmp('logit_maxes', dlogit_maxes, logit_maxes)\n",
    "cmp('logits', dlogits, logits)"
   ]
  },
  {
   "cell_type": "code",
   "execution_count": 354,
   "id": "aa4872ea",
   "metadata": {},
   "outputs": [],
   "source": [
    "#now logits gradients match with pytorch"
   ]
  },
  {
   "cell_type": "code",
   "execution_count": 355,
   "id": "1228707c",
   "metadata": {},
   "outputs": [],
   "source": [
    "#Let's continue with next logits =h @ W2 + b2 : matrix multiplication and bias offset\n",
    "#analyze the shape"
   ]
  },
  {
   "cell_type": "code",
   "execution_count": 356,
   "id": "c9b488e1",
   "metadata": {},
   "outputs": [
    {
     "data": {
      "text/plain": [
       "(torch.Size([32, 27]),\n",
       " torch.Size([32, 200]),\n",
       " torch.Size([200, 27]),\n",
       " torch.Size([27]))"
      ]
     },
     "execution_count": 356,
     "metadata": {},
     "output_type": "execute_result"
    }
   ],
   "source": [
    "dlogits.shape, h.shape, W2.shape, b2.shape"
   ]
  },
  {
   "cell_type": "code",
   "execution_count": 357,
   "id": "9e79b9ca",
   "metadata": {},
   "outputs": [],
   "source": [
    "#logits have shape of 32 * 27, h is 32 * 200, these are 200 dimensional hidden states, \n",
    "#W matrix projects those 200 dimensional vectors into 27 dimensions  and finally 27 dim offset from bias b2 - 1 dim vector\n",
    "#note that + actually broadcasts because h * W2 - will give 32 * 27 and this + b2  is a 27 dim vector \n",
    "#now in the rules of broadcasting what's going to happen with the bias vector is that this 1 dim vector of 27 will\n",
    "#get aligned with a padded dimension of one on the left and it will basically become a row vector and then it will get\n",
    "#replicated vertically 32 times to make it 32 * 27 and there's an element wise multiply"
   ]
  },
  {
   "cell_type": "code",
   "execution_count": 358,
   "id": "e8ac7aff",
   "metadata": {},
   "outputs": [],
   "source": [
    "#Question is how do we backpropagate from logits to the hidden states, the weight matrix and the bias b2 ?\n",
    "#nothing complex, if we know the first principles and derive it easily yourself\n",
    "#best way is to take a specific small example, fully write out and then process of analyzing how that individual\n",
    "#small example works, you will understand the broader pattern, finally generalize for broader area"
   ]
  },
  {
   "cell_type": "code",
   "execution_count": 359,
   "id": "f894712e",
   "metadata": {},
   "outputs": [
    {
     "data": {
      "image/jpeg": "[encoded data removed]",
      "text/plain": [
       "<IPython.core.display.Image object>"
      ]
     },
     "metadata": {},
     "output_type": "display_data"
    }
   ],
   "source": [
    "x = Image(filename=r\"C:\\Users\\welcome\\Desktop\\AndrejKarpathy\\derive1.JPG\")\n",
    "y = Image(filename=r\"C:\\Users\\welcome\\Desktop\\AndrejKarpathy\\derive2.JPG\")\n",
    "z = Image(filename=r\"C:\\Users\\welcome\\Desktop\\AndrejKarpathy\\derive3.JPG\")\n",
    "display(x)"
   ]
  },
  {
   "cell_type": "code",
   "execution_count": 360,
   "id": "154996c9",
   "metadata": {},
   "outputs": [],
   "source": [
    "#d = a * b + c where a & b as 2 * 2 matrix and c is 1 dim vector of 2 indices\n",
    "#notice how c vector is broadcasted into row vector and helps with addition\n",
    "#now how d vector is formed using matrix multiplication\n",
    "#for e.g. d11 - result of dot product between first row of a and first column of b i.e \"a11*b11 + a12*b12 + c1\"\n",
    "#from micrograd, we know how to diffeentiate multiplies and adds"
   ]
  },
  {
   "cell_type": "code",
   "execution_count": 361,
   "id": "46582862",
   "metadata": {},
   "outputs": [
    {
     "data": {
      "image/jpeg": "[encoded data removed]",
      "text/plain": [
       "<IPython.core.display.Image object>"
      ]
     },
     "metadata": {},
     "output_type": "display_data"
    }
   ],
   "source": [
    "display(y)"
   ]
  },
  {
   "cell_type": "code",
   "execution_count": 362,
   "id": "762927e2",
   "metadata": {},
   "outputs": [],
   "source": [
    "#say lets find derivative of loss w.r.t a11 \n",
    "#notice a11 occurs twice in matrix multiplication i.e. a11 influences d11 and d12\n",
    "#dl/da11 = dl/d11.b11 + dl/d12.b12 ; since a11 is contributing to both of those chains running in parallel, we need to add\n",
    "#expanding to all ther elements and analyzing the pattern,\n",
    "#turns out to be dl/da = \"dl/dd matrix multiplied  with b transpose\""
   ]
  },
  {
   "cell_type": "code",
   "execution_count": 363,
   "id": "d9d4686d",
   "metadata": {},
   "outputs": [
    {
     "data": {
      "image/jpeg": "[encoded data removed]",
      "text/plain": [
       "<IPython.core.display.Image object>"
      ]
     },
     "metadata": {},
     "output_type": "display_data"
    }
   ],
   "source": [
    "display(z)"
   ]
  },
  {
   "cell_type": "code",
   "execution_count": 364,
   "id": "8ce87719",
   "metadata": {},
   "outputs": [],
   "source": [
    "#similarly, if we differentiate the d matrix w.r.t b, then we will get\n",
    "#dl/db = \"a transponse matrix multipled with dl/dd\""
   ]
  },
  {
   "cell_type": "code",
   "execution_count": 365,
   "id": "d03128ae",
   "metadata": {},
   "outputs": [],
   "source": [
    "#also, dl/dc = dl/dd * sum(0) i.e. derivatives of D mutltiplied to sum across the columns of  c"
   ]
  },
  {
   "cell_type": "code",
   "execution_count": 366,
   "id": "86dc5e63",
   "metadata": {},
   "outputs": [],
   "source": [
    "#long term short, backward pass for matrix multiply is a matrix multiply..."
   ]
  },
  {
   "cell_type": "code",
   "execution_count": 367,
   "id": "555d4532",
   "metadata": {},
   "outputs": [
    {
     "data": {
      "text/plain": [
       "(torch.Size([32, 27]),\n",
       " torch.Size([32, 200]),\n",
       " torch.Size([200, 27]),\n",
       " torch.Size([27]))"
      ]
     },
     "execution_count": 367,
     "metadata": {},
     "output_type": "execute_result"
    }
   ],
   "source": [
    "dlogits.shape, h.shape, W2.shape, b2.shape"
   ]
  },
  {
   "cell_type": "code",
   "execution_count": 368,
   "id": "4c87d2d0",
   "metadata": {},
   "outputs": [],
   "source": [
    "#Secret to remember for matrix multiplication derivative is - the dimensions has to workout\n",
    "#say we need to find dh - what should the h be ? - we know shape of dh should be same as h\n",
    "#shape of h is 32 * 200; \n",
    "#other thing we know is db must be some kind of matrix multiplication of the logits with w2\n",
    "#dlogits shape is 32 * 27; w2 is 200 * 27; now, there is only one way to make the shape work out in this case\n",
    "#h needs to be 32 * 27, only way to do this take dlogits and matrix multiply it with Transponse of W2"
   ]
  },
  {
   "cell_type": "code",
   "execution_count": 369,
   "id": "05ba2e75",
   "metadata": {},
   "outputs": [],
   "source": [
    "dh = dlogits @ W2.T\n",
    "dW2 = h.T @ dlogits\n",
    "db2 = dlogits.sum(0)"
   ]
  },
  {
   "cell_type": "code",
   "execution_count": 370,
   "id": "e1c8fe43",
   "metadata": {},
   "outputs": [
    {
     "name": "stdout",
     "output_type": "stream",
     "text": [
      "logprobs        | exact: True  | approximate: True  | maxdiff: 0.0\n",
      "probs           | exact: True  | approximate: True  | maxdiff: 0.0\n",
      "counts_sum_inv  | exact: True  | approximate: True  | maxdiff: 0.0\n",
      "counts_sum      | exact: True  | approximate: True  | maxdiff: 0.0\n",
      "counts          | exact: True  | approximate: True  | maxdiff: 0.0\n",
      "norm_logits     | exact: True  | approximate: True  | maxdiff: 0.0\n",
      "logit_maxes     | exact: True  | approximate: True  | maxdiff: 0.0\n",
      "logits          | exact: True  | approximate: True  | maxdiff: 0.0\n",
      "h               | exact: True  | approximate: True  | maxdiff: 0.0\n",
      "W2              | exact: True  | approximate: True  | maxdiff: 0.0\n",
      "b2              | exact: True  | approximate: True  | maxdiff: 0.0\n"
     ]
    }
   ],
   "source": [
    "cmp('logprobs', dlogprobs, logprobs)\n",
    "cmp('probs', dprobs, probs)\n",
    "cmp('counts_sum_inv', dcounts_sum_inv, counts_sum_inv)\n",
    "cmp('counts_sum', dcounts_sum, counts_sum)\n",
    "cmp('counts', dcounts, counts)\n",
    "cmp('norm_logits', dnorm_logits, norm_logits)\n",
    "cmp('logit_maxes', dlogit_maxes, logit_maxes)\n",
    "cmp('logits', dlogits, logits)\n",
    "cmp('h', dh, h)\n",
    "cmp('W2', dW2, W2)\n",
    "cmp('b2', db2, b2)"
   ]
  },
  {
   "cell_type": "code",
   "execution_count": 371,
   "id": "0582efe4",
   "metadata": {},
   "outputs": [],
   "source": [
    "#next up, we have derivative for the h and we need to backpropagate through tanh into hpreact: h = torch.tanh(hpreact)"
   ]
  },
  {
   "cell_type": "code",
   "execution_count": 372,
   "id": "36dfd3eb",
   "metadata": {},
   "outputs": [],
   "source": [
    "#if a = tanh(z) then  da/dz = = 1 - a^2 where a is the output of tanh not the input of tanh\n",
    "dhpreact = (1.0 - h**2) * dh #chain rule,so multiplied with dh\n",
    "#output of tanh for this is h, hence h^2"
   ]
  },
  {
   "cell_type": "code",
   "execution_count": 373,
   "id": "b21f7ea9",
   "metadata": {},
   "outputs": [
    {
     "name": "stdout",
     "output_type": "stream",
     "text": [
      "logprobs        | exact: True  | approximate: True  | maxdiff: 0.0\n",
      "probs           | exact: True  | approximate: True  | maxdiff: 0.0\n",
      "counts_sum_inv  | exact: True  | approximate: True  | maxdiff: 0.0\n",
      "counts_sum      | exact: True  | approximate: True  | maxdiff: 0.0\n",
      "counts          | exact: True  | approximate: True  | maxdiff: 0.0\n",
      "norm_logits     | exact: True  | approximate: True  | maxdiff: 0.0\n",
      "logit_maxes     | exact: True  | approximate: True  | maxdiff: 0.0\n",
      "logits          | exact: True  | approximate: True  | maxdiff: 0.0\n",
      "h               | exact: True  | approximate: True  | maxdiff: 0.0\n",
      "W2              | exact: True  | approximate: True  | maxdiff: 0.0\n",
      "b2              | exact: True  | approximate: True  | maxdiff: 0.0\n",
      "hpreact         | exact: True  | approximate: True  | maxdiff: 0.0\n"
     ]
    }
   ],
   "source": [
    "cmp('logprobs', dlogprobs, logprobs)\n",
    "cmp('probs', dprobs, probs)\n",
    "cmp('counts_sum_inv', dcounts_sum_inv, counts_sum_inv)\n",
    "cmp('counts_sum', dcounts_sum, counts_sum)\n",
    "cmp('counts', dcounts, counts)\n",
    "cmp('norm_logits', dnorm_logits, norm_logits)\n",
    "cmp('logit_maxes', dlogit_maxes, logit_maxes)\n",
    "cmp('logits', dlogits, logits)\n",
    "cmp('h', dh, h)\n",
    "cmp('W2', dW2, W2)\n",
    "cmp('b2', db2, b2)\n",
    "cmp('hpreact', dhpreact, hpreact)"
   ]
  },
  {
   "cell_type": "code",
   "execution_count": 374,
   "id": "89fa7db4",
   "metadata": {},
   "outputs": [],
   "source": [
    "#Next we have : hpreact = bngain * bnraw + bnbias, we need to backpropagate into the  bngain, bnraw and bnbias\n",
    "#here these are batch norm parameters... i.e it takes bnraw - exact unit guassian and then scale & shift it\n",
    "#Note: @ & * are different proecss. @ is multiplicaion of rows and columns, whereas * is element wise multiplication\n",
    "#Also, carefully analyizing broadcasting is happening"
   ]
  },
  {
   "cell_type": "code",
   "execution_count": 375,
   "id": "be77cd96",
   "metadata": {},
   "outputs": [
    {
     "data": {
      "text/plain": [
       "(torch.Size([32, 200]),\n",
       " torch.Size([1, 200]),\n",
       " torch.Size([32, 200]),\n",
       " torch.Size([1, 200]))"
      ]
     },
     "execution_count": 375,
     "metadata": {},
     "output_type": "execute_result"
    }
   ],
   "source": [
    "hpreact.shape, bngain.shape, bnraw.shape, bnbias.shape"
   ]
  },
  {
   "cell_type": "code",
   "execution_count": 376,
   "id": "28122770",
   "metadata": {},
   "outputs": [],
   "source": [
    "#bngain & bnbias are shape of 1 * 200, but hpreact and bnraw are 32 * 200 \n",
    "#need to careful about the size when backpropagating"
   ]
  },
  {
   "cell_type": "code",
   "execution_count": 377,
   "id": "24282d2a",
   "metadata": {},
   "outputs": [],
   "source": [
    "#start with bngain...\n",
    "#we know whenever c = a*b and local derivative of dc/da = b, therfore ....\n",
    "#dbngain = bnraw * dhpreact : because of chain rule\n",
    "#but bngain is of size 1 * 200, but bnraw & dhpreact are size of 32 * 200\n",
    "#correct way to do is that, bngain vector of 200 is replicated vertically in this operation, therfore we need to sum\n",
    "#Also need to careful because to make size of 1 * 200, so keepdim = true\n",
    "dbngain = (bnraw * dhpreact).sum(0, keepdim=True)"
   ]
  },
  {
   "cell_type": "code",
   "execution_count": 378,
   "id": "0ad05291",
   "metadata": {},
   "outputs": [],
   "source": [
    "#similarly for bnraw\n",
    "dbnraw = (bngain * dhpreact) #no need for sum, because broadcast happens"
   ]
  },
  {
   "cell_type": "code",
   "execution_count": 379,
   "id": "fdce5493",
   "metadata": {},
   "outputs": [],
   "source": [
    "#since bias is added, gradient will simply flow into the biases and add up, because these are just offsets\n",
    "#need to sum along right direction\n",
    "dbnbias = dhpreact.sum(0, keepdim=True)"
   ]
  },
  {
   "cell_type": "code",
   "execution_count": 380,
   "id": "d4429767",
   "metadata": {},
   "outputs": [
    {
     "name": "stdout",
     "output_type": "stream",
     "text": [
      "logprobs        | exact: True  | approximate: True  | maxdiff: 0.0\n",
      "probs           | exact: True  | approximate: True  | maxdiff: 0.0\n",
      "counts_sum_inv  | exact: True  | approximate: True  | maxdiff: 0.0\n",
      "counts_sum      | exact: True  | approximate: True  | maxdiff: 0.0\n",
      "counts          | exact: True  | approximate: True  | maxdiff: 0.0\n",
      "norm_logits     | exact: True  | approximate: True  | maxdiff: 0.0\n",
      "logit_maxes     | exact: True  | approximate: True  | maxdiff: 0.0\n",
      "logits          | exact: True  | approximate: True  | maxdiff: 0.0\n",
      "h               | exact: True  | approximate: True  | maxdiff: 0.0\n",
      "W2              | exact: True  | approximate: True  | maxdiff: 0.0\n",
      "b2              | exact: True  | approximate: True  | maxdiff: 0.0\n",
      "hpreact         | exact: True  | approximate: True  | maxdiff: 0.0\n",
      "bngain          | exact: True  | approximate: True  | maxdiff: 0.0\n",
      "bnraw           | exact: True  | approximate: True  | maxdiff: 0.0\n",
      "bnbias          | exact: True  | approximate: True  | maxdiff: 0.0\n"
     ]
    }
   ],
   "source": [
    "cmp('logprobs', dlogprobs, logprobs)\n",
    "cmp('probs', dprobs, probs)\n",
    "cmp('counts_sum_inv', dcounts_sum_inv, counts_sum_inv)\n",
    "cmp('counts_sum', dcounts_sum, counts_sum)\n",
    "cmp('counts', dcounts, counts)\n",
    "cmp('norm_logits', dnorm_logits, norm_logits)\n",
    "cmp('logit_maxes', dlogit_maxes, logit_maxes)\n",
    "cmp('logits', dlogits, logits)\n",
    "cmp('h', dh, h)\n",
    "cmp('W2', dW2, W2)\n",
    "cmp('b2', db2, b2)\n",
    "cmp('hpreact', dhpreact, hpreact)\n",
    "cmp('bngain', dbngain, bngain)\n",
    "cmp('bnraw', dbnraw, bnraw)\n",
    "cmp('bnbias', dbnbias, bnbias)"
   ]
  },
  {
   "cell_type": "code",
   "execution_count": 381,
   "id": "6535238d",
   "metadata": {},
   "outputs": [],
   "source": [
    "#now we are getting into batch norm layer.. bngain & bnbias are parameters , so backprop ends\n",
    "#bnraw = bndiff * bnvar_inv : is output of standardization\n",
    "#we have broken down broken up the batch norm into manageable piece so we can backpropagate throgh each line individually\n",
    "#basically what happening is ....\n",
    "#bnmeani is the sum; bndiff is x - Mu; bndiff is (x - Mu)^2\n",
    "#bnvar is the variance i.e. sigma^2; basically it is the sum of squares \n",
    "#notice in variance, we divide by total n, but in our logice we divided by (n-1) - bassel's correction, we'' get back later\n",
    "#bnvar_inv is basically variace + epsilon and their square root; -ve becaise of inverse in formula\n",
    "#bnraw is xhat : equal to the bndiff multiplied by bnvar_inv"
   ]
  },
  {
   "cell_type": "code",
   "execution_count": 382,
   "id": "f488a4c3",
   "metadata": {},
   "outputs": [
    {
     "data": {
      "image/jpeg": "[encoded data removed]",
      "text/plain": [
       "<IPython.core.display.Image object>"
      ]
     },
     "metadata": {},
     "output_type": "display_data"
    }
   ],
   "source": [
    "z = Image(filename=r\"C:\\Users\\welcome\\Desktop\\AndrejKarpathy\\derive4.JPG\")\n",
    "display(z)"
   ]
  },
  {
   "cell_type": "code",
   "execution_count": 383,
   "id": "ebc18fa3",
   "metadata": {},
   "outputs": [],
   "source": [
    "#lets backpropagate through bndiff & bnvar_inv: bnraw = bndiff * bnvar_inv\n",
    "#Lets find the shapes"
   ]
  },
  {
   "cell_type": "code",
   "execution_count": 389,
   "id": "7209fbd3",
   "metadata": {},
   "outputs": [
    {
     "data": {
      "text/plain": [
       "(torch.Size([32, 200]), torch.Size([32, 200]), torch.Size([1, 200]))"
      ]
     },
     "execution_count": 389,
     "metadata": {},
     "output_type": "execute_result"
    }
   ],
   "source": [
    "bnraw.shape, bndiff.shape,  bnvar_inv.shape"
   ]
  },
  {
   "cell_type": "code",
   "execution_count": 390,
   "id": "9e2e0833",
   "metadata": {},
   "outputs": [],
   "source": [
    "#bnvar_inv has a shape of 1*200, so there is a broadcasting happening\n",
    "#but the equation bnraw = bndiff * bnvar_inv is element wise multiplication, hence easy to backpropagate"
   ]
  },
  {
   "cell_type": "code",
   "execution_count": 391,
   "id": "2444e7a4",
   "metadata": {},
   "outputs": [],
   "source": [
    "dbndiff = bnvar_inv * dbnraw\n",
    "dbnvar_inv = (bndiff * dbnraw).sum(0, keepdim=True)\n",
    "#but ensure broadcast will work, particularly the size of dbnvar_inv should be 1*200, hence summing"
   ]
  },
  {
   "cell_type": "code",
   "execution_count": 392,
   "id": "8cd8df2b",
   "metadata": {},
   "outputs": [
    {
     "name": "stdout",
     "output_type": "stream",
     "text": [
      "logprobs        | exact: True  | approximate: True  | maxdiff: 0.0\n",
      "probs           | exact: True  | approximate: True  | maxdiff: 0.0\n",
      "counts_sum_inv  | exact: True  | approximate: True  | maxdiff: 0.0\n",
      "counts_sum      | exact: True  | approximate: True  | maxdiff: 0.0\n",
      "counts          | exact: True  | approximate: True  | maxdiff: 0.0\n",
      "norm_logits     | exact: True  | approximate: True  | maxdiff: 0.0\n",
      "logit_maxes     | exact: True  | approximate: True  | maxdiff: 0.0\n",
      "logits          | exact: True  | approximate: True  | maxdiff: 0.0\n",
      "h               | exact: True  | approximate: True  | maxdiff: 0.0\n",
      "W2              | exact: True  | approximate: True  | maxdiff: 0.0\n",
      "b2              | exact: True  | approximate: True  | maxdiff: 0.0\n",
      "hpreact         | exact: True  | approximate: True  | maxdiff: 0.0\n",
      "bngain          | exact: True  | approximate: True  | maxdiff: 0.0\n",
      "bnraw           | exact: True  | approximate: True  | maxdiff: 0.0\n",
      "bnbias          | exact: True  | approximate: True  | maxdiff: 0.0\n",
      "bnvar_inv       | exact: True  | approximate: True  | maxdiff: 0.0\n",
      "bndiff          | exact: False | approximate: False | maxdiff: 0.001239237142726779\n"
     ]
    }
   ],
   "source": [
    "cmp('logprobs', dlogprobs, logprobs)\n",
    "cmp('probs', dprobs, probs)\n",
    "cmp('counts_sum_inv', dcounts_sum_inv, counts_sum_inv)\n",
    "cmp('counts_sum', dcounts_sum, counts_sum)\n",
    "cmp('counts', dcounts, counts)\n",
    "cmp('norm_logits', dnorm_logits, norm_logits)\n",
    "cmp('logit_maxes', dlogit_maxes, logit_maxes)\n",
    "cmp('logits', dlogits, logits)\n",
    "cmp('h', dh, h)\n",
    "cmp('W2', dW2, W2)\n",
    "cmp('b2', db2, b2)\n",
    "cmp('hpreact', dhpreact, hpreact)\n",
    "cmp('bngain', dbngain, bngain)\n",
    "cmp('bnraw', dbnraw, bnraw)\n",
    "cmp('bnbias', dbnbias, bnbias)\n",
    "cmp('bnvar_inv', dbnvar_inv, bnvar_inv)\n",
    "cmp('bndiff', dbndiff, bndiff)"
   ]
  },
  {
   "cell_type": "code",
   "execution_count": 393,
   "id": "793f5b5c",
   "metadata": {},
   "outputs": [],
   "source": [
    "#Notice, bndiff gradient is not matching, why?\n",
    "#bndiff is used in other branches, hence we need to calculate gradient for that branch also for correct match"
   ]
  },
  {
   "cell_type": "code",
   "execution_count": 394,
   "id": "e41dfb83",
   "metadata": {},
   "outputs": [],
   "source": [
    "#Next find gradient for : bnvar_inv = (bnvar + 1e-5)**-0.5 \n",
    "dbnvar = (-0.5 *  (bnvar + 1e-5) ** (-1.5) * 1 ) * dbnvar_inv  #i.e d/dx(x^n) = n (x^n-1)"
   ]
  },
  {
   "cell_type": "code",
   "execution_count": 395,
   "id": "e1ff8548",
   "metadata": {},
   "outputs": [
    {
     "name": "stdout",
     "output_type": "stream",
     "text": [
      "logprobs        | exact: True  | approximate: True  | maxdiff: 0.0\n",
      "probs           | exact: True  | approximate: True  | maxdiff: 0.0\n",
      "counts_sum_inv  | exact: True  | approximate: True  | maxdiff: 0.0\n",
      "counts_sum      | exact: True  | approximate: True  | maxdiff: 0.0\n",
      "counts          | exact: True  | approximate: True  | maxdiff: 0.0\n",
      "norm_logits     | exact: True  | approximate: True  | maxdiff: 0.0\n",
      "logit_maxes     | exact: True  | approximate: True  | maxdiff: 0.0\n",
      "logits          | exact: True  | approximate: True  | maxdiff: 0.0\n",
      "h               | exact: True  | approximate: True  | maxdiff: 0.0\n",
      "W2              | exact: True  | approximate: True  | maxdiff: 0.0\n",
      "b2              | exact: True  | approximate: True  | maxdiff: 0.0\n",
      "hpreact         | exact: True  | approximate: True  | maxdiff: 0.0\n",
      "bngain          | exact: True  | approximate: True  | maxdiff: 0.0\n",
      "bnraw           | exact: True  | approximate: True  | maxdiff: 0.0\n",
      "bnbias          | exact: True  | approximate: True  | maxdiff: 0.0\n",
      "bnvar_inv       | exact: True  | approximate: True  | maxdiff: 0.0\n",
      "bnvar           | exact: True  | approximate: True  | maxdiff: 0.0\n"
     ]
    }
   ],
   "source": [
    "cmp('logprobs', dlogprobs, logprobs)\n",
    "cmp('probs', dprobs, probs)\n",
    "cmp('counts_sum_inv', dcounts_sum_inv, counts_sum_inv)\n",
    "cmp('counts_sum', dcounts_sum, counts_sum)\n",
    "cmp('counts', dcounts, counts)\n",
    "cmp('norm_logits', dnorm_logits, norm_logits)\n",
    "cmp('logit_maxes', dlogit_maxes, logit_maxes)\n",
    "cmp('logits', dlogits, logits)\n",
    "cmp('h', dh, h)\n",
    "cmp('W2', dW2, W2)\n",
    "cmp('b2', db2, b2)\n",
    "cmp('hpreact', dhpreact, hpreact)\n",
    "cmp('bngain', dbngain, bngain)\n",
    "cmp('bnraw', dbnraw, bnraw)\n",
    "cmp('bnbias', dbnbias, bnbias)\n",
    "cmp('bnvar_inv', dbnvar_inv, bnvar_inv)\n",
    "cmp('bnvar', dbnvar, bnvar)"
   ]
  },
  {
   "cell_type": "code",
   "execution_count": 396,
   "id": "6a303562",
   "metadata": {},
   "outputs": [],
   "source": [
    "#bnvar = 1/(n-1)*(bndiff2).sum(0, keepdim=True) #note: Bessel's correction (divinding by n-1 not n)\n",
    "#before proceeding with this, lets understand about bessel's correction divided by n-1 instead n ??\n",
    "#In original paper, it was divided by n instead n-1\n",
    "#as we know, there are 2 types of estimating a statistics i.e. for population or samples\n",
    "#1/n - is biased estimate, 1/n-1 is unbiased estimate\n",
    "#notice in paper, while training they used biased estimate & in inference they used unbiased estimate\n",
    "#since mini batches are samples from large population, advisable to use sample static...."
   ]
  },
  {
   "cell_type": "code",
   "execution_count": 397,
   "id": "b2f8e7f8",
   "metadata": {},
   "outputs": [
    {
     "data": {
      "text/plain": [
       "(torch.Size([1, 200]), torch.Size([32, 200]))"
      ]
     },
     "execution_count": 397,
     "metadata": {},
     "output_type": "execute_result"
    }
   ],
   "source": [
    "#Proceeding, lets  scrutinize the shapes first as always...\n",
    "bnvar.shape, bndiff2.shape\n",
    "#notice the shapes mismatch, hence we used sum function at oth axis to squash the first dim of the shapes\n",
    "#allowing for broadcasting"
   ]
  },
  {
   "cell_type": "code",
   "execution_count": 398,
   "id": "1ef4e3fe",
   "metadata": {},
   "outputs": [],
   "source": [
    "#anytime if u notice a sum in the forward pass that turns into a replication or broadcasting in the backward pass\n",
    "#along the same dimension\n",
    "#conversely when we have a replication or a broadcasting in the backward pass that indicates a variable reuse, that turns\n",
    "#into a sum over the exact same dim"
   ]
  },
  {
   "cell_type": "code",
   "execution_count": 399,
   "id": "38073c65",
   "metadata": {},
   "outputs": [],
   "source": [
    "#once we know the shape, lets look at toy example to understand the dependencies go in mathematical formula\n",
    "#a11 a12\n",
    "#a21 a22\n",
    "#[b1 b2]\n",
    "#b1 = 1/(n-1) * (a11 + a21)\n",
    "#b2 = 1/(n-1) * (a21 + a22)\n",
    "\n",
    "#here we have 2 dim array, which we are scaling by a constant and we are summing vertically over the columns\n",
    "#we will get row vector b1 & b2\n",
    "#we now have derivatives of b1 & b2, backpropagate into a's"
   ]
  },
  {
   "cell_type": "code",
   "execution_count": 400,
   "id": "ff9c8e2e",
   "metadata": {},
   "outputs": [],
   "source": [
    "dbndiff2 = (1.0/(n-1)) * torch.ones_like(bndiff2) * dbnvar #creating a large array of 2-dim ones and then scale it"
   ]
  },
  {
   "cell_type": "code",
   "execution_count": 401,
   "id": "be1d4a6d",
   "metadata": {},
   "outputs": [
    {
     "data": {
      "text/plain": [
       "(torch.Size([1, 200]), torch.Size([32, 200]))"
      ]
     },
     "execution_count": 401,
     "metadata": {},
     "output_type": "execute_result"
    }
   ],
   "source": [
    "bnvar.shape, bndiff2.shape"
   ]
  },
  {
   "cell_type": "code",
   "execution_count": 402,
   "id": "47cffe6b",
   "metadata": {},
   "outputs": [],
   "source": [
    "#broadcast happens to match dim"
   ]
  },
  {
   "cell_type": "code",
   "execution_count": 403,
   "id": "acb2ebcf",
   "metadata": {},
   "outputs": [
    {
     "name": "stdout",
     "output_type": "stream",
     "text": [
      "logprobs        | exact: True  | approximate: True  | maxdiff: 0.0\n",
      "probs           | exact: True  | approximate: True  | maxdiff: 0.0\n",
      "counts_sum_inv  | exact: True  | approximate: True  | maxdiff: 0.0\n",
      "counts_sum      | exact: True  | approximate: True  | maxdiff: 0.0\n",
      "counts          | exact: True  | approximate: True  | maxdiff: 0.0\n",
      "norm_logits     | exact: True  | approximate: True  | maxdiff: 0.0\n",
      "logit_maxes     | exact: True  | approximate: True  | maxdiff: 0.0\n",
      "logits          | exact: True  | approximate: True  | maxdiff: 0.0\n",
      "h               | exact: True  | approximate: True  | maxdiff: 0.0\n",
      "W2              | exact: True  | approximate: True  | maxdiff: 0.0\n",
      "b2              | exact: True  | approximate: True  | maxdiff: 0.0\n",
      "hpreact         | exact: True  | approximate: True  | maxdiff: 0.0\n",
      "bngain          | exact: True  | approximate: True  | maxdiff: 0.0\n",
      "bnraw           | exact: True  | approximate: True  | maxdiff: 0.0\n",
      "bnbias          | exact: True  | approximate: True  | maxdiff: 0.0\n",
      "bnvar_inv       | exact: True  | approximate: True  | maxdiff: 0.0\n",
      "bnvar           | exact: True  | approximate: True  | maxdiff: 0.0\n",
      "bndiff2         | exact: True  | approximate: True  | maxdiff: 0.0\n"
     ]
    }
   ],
   "source": [
    "cmp('logprobs', dlogprobs, logprobs)\n",
    "cmp('probs', dprobs, probs)\n",
    "cmp('counts_sum_inv', dcounts_sum_inv, counts_sum_inv)\n",
    "cmp('counts_sum', dcounts_sum, counts_sum)\n",
    "cmp('counts', dcounts, counts)\n",
    "cmp('norm_logits', dnorm_logits, norm_logits)\n",
    "cmp('logit_maxes', dlogit_maxes, logit_maxes)\n",
    "cmp('logits', dlogits, logits)\n",
    "cmp('h', dh, h)\n",
    "cmp('W2', dW2, W2)\n",
    "cmp('b2', db2, b2)\n",
    "cmp('hpreact', dhpreact, hpreact)\n",
    "cmp('bngain', dbngain, bngain)\n",
    "cmp('bnraw', dbnraw, bnraw)\n",
    "cmp('bnbias', dbnbias, bnbias)\n",
    "cmp('bnvar_inv', dbnvar_inv, bnvar_inv)\n",
    "cmp('bnvar', dbnvar, bnvar)\n",
    "cmp('bndiff2', dbndiff2, bndiff2)"
   ]
  },
  {
   "cell_type": "code",
   "execution_count": 261,
   "id": "66153456",
   "metadata": {},
   "outputs": [],
   "source": [
    "#next, bndiff2 = bndiff**2\n",
    "dbndiff = (2 * bndiff) * dbndiff2 #notice not added previous dbndiff, hence output is wrong"
   ]
  },
  {
   "cell_type": "code",
   "execution_count": 118,
   "id": "6fecbb09",
   "metadata": {},
   "outputs": [
    {
     "name": "stdout",
     "output_type": "stream",
     "text": [
      "logprobs        | exact: True  | approximate: True  | maxdiff: 0.0\n",
      "probs           | exact: True  | approximate: True  | maxdiff: 0.0\n",
      "counts_sum_inv  | exact: True  | approximate: True  | maxdiff: 0.0\n",
      "counts_sum      | exact: True  | approximate: True  | maxdiff: 0.0\n",
      "counts          | exact: True  | approximate: True  | maxdiff: 0.0\n",
      "norm_logits     | exact: True  | approximate: True  | maxdiff: 0.0\n",
      "logit_maxes     | exact: True  | approximate: True  | maxdiff: 0.0\n",
      "logits          | exact: True  | approximate: True  | maxdiff: 0.0\n",
      "h               | exact: True  | approximate: True  | maxdiff: 0.0\n",
      "W2              | exact: True  | approximate: True  | maxdiff: 0.0\n",
      "b2              | exact: True  | approximate: True  | maxdiff: 0.0\n",
      "hpreact         | exact: True  | approximate: True  | maxdiff: 0.0\n",
      "bngain          | exact: True  | approximate: True  | maxdiff: 0.0\n",
      "bnraw           | exact: True  | approximate: True  | maxdiff: 0.0\n",
      "bnbias          | exact: True  | approximate: True  | maxdiff: 0.0\n",
      "bnvar_inv       | exact: True  | approximate: True  | maxdiff: 0.0\n",
      "bnvar           | exact: True  | approximate: True  | maxdiff: 0.0\n",
      "bndiff2         | exact: True  | approximate: True  | maxdiff: 0.0\n",
      "bndiff          | exact: False | approximate: False | maxdiff: 0.009792754426598549\n"
     ]
    }
   ],
   "source": [
    "cmp('logprobs', dlogprobs, logprobs)\n",
    "cmp('probs', dprobs, probs)\n",
    "cmp('counts_sum_inv', dcounts_sum_inv, counts_sum_inv)\n",
    "cmp('counts_sum', dcounts_sum, counts_sum)\n",
    "cmp('counts', dcounts, counts)\n",
    "cmp('norm_logits', dnorm_logits, norm_logits)\n",
    "cmp('logit_maxes', dlogit_maxes, logit_maxes)\n",
    "cmp('logits', dlogits, logits)\n",
    "cmp('h', dh, h)\n",
    "cmp('W2', dW2, W2)\n",
    "cmp('b2', db2, b2)\n",
    "cmp('hpreact', dhpreact, hpreact)\n",
    "cmp('bngain', dbngain, bngain)\n",
    "cmp('bnraw', dbnraw, bnraw)\n",
    "cmp('bnbias', dbnbias, bnbias)\n",
    "cmp('bnvar_inv', dbnvar_inv, bnvar_inv)\n",
    "cmp('bnvar', dbnvar, bnvar)\n",
    "cmp('bndiff2', dbndiff2, bndiff2)\n",
    "cmp('bndiff', dbndiff, bndiff)"
   ]
  },
  {
   "cell_type": "code",
   "execution_count": 404,
   "id": "8d7490f2",
   "metadata": {},
   "outputs": [],
   "source": [
    "dbndiff += (2 * bndiff) * dbndiff2"
   ]
  },
  {
   "cell_type": "code",
   "execution_count": 405,
   "id": "ae0bbe02",
   "metadata": {},
   "outputs": [
    {
     "name": "stdout",
     "output_type": "stream",
     "text": [
      "logprobs        | exact: True  | approximate: True  | maxdiff: 0.0\n",
      "probs           | exact: True  | approximate: True  | maxdiff: 0.0\n",
      "counts_sum_inv  | exact: True  | approximate: True  | maxdiff: 0.0\n",
      "counts_sum      | exact: True  | approximate: True  | maxdiff: 0.0\n",
      "counts          | exact: True  | approximate: True  | maxdiff: 0.0\n",
      "norm_logits     | exact: True  | approximate: True  | maxdiff: 0.0\n",
      "logit_maxes     | exact: True  | approximate: True  | maxdiff: 0.0\n",
      "logits          | exact: True  | approximate: True  | maxdiff: 0.0\n",
      "h               | exact: True  | approximate: True  | maxdiff: 0.0\n",
      "W2              | exact: True  | approximate: True  | maxdiff: 0.0\n",
      "b2              | exact: True  | approximate: True  | maxdiff: 0.0\n",
      "hpreact         | exact: True  | approximate: True  | maxdiff: 0.0\n",
      "bngain          | exact: True  | approximate: True  | maxdiff: 0.0\n",
      "bnraw           | exact: True  | approximate: True  | maxdiff: 0.0\n",
      "bnbias          | exact: True  | approximate: True  | maxdiff: 0.0\n",
      "bnvar_inv       | exact: True  | approximate: True  | maxdiff: 0.0\n",
      "bnvar           | exact: True  | approximate: True  | maxdiff: 0.0\n",
      "bndiff2         | exact: True  | approximate: True  | maxdiff: 0.0\n",
      "bndiff          | exact: True  | approximate: True  | maxdiff: 0.0\n"
     ]
    }
   ],
   "source": [
    "cmp('logprobs', dlogprobs, logprobs)\n",
    "cmp('probs', dprobs, probs)\n",
    "cmp('counts_sum_inv', dcounts_sum_inv, counts_sum_inv)\n",
    "cmp('counts_sum', dcounts_sum, counts_sum)\n",
    "cmp('counts', dcounts, counts)\n",
    "cmp('norm_logits', dnorm_logits, norm_logits)\n",
    "cmp('logit_maxes', dlogit_maxes, logit_maxes)\n",
    "cmp('logits', dlogits, logits)\n",
    "cmp('h', dh, h)\n",
    "cmp('W2', dW2, W2)\n",
    "cmp('b2', db2, b2)\n",
    "cmp('hpreact', dhpreact, hpreact)\n",
    "cmp('bngain', dbngain, bngain)\n",
    "cmp('bnraw', dbnraw, bnraw)\n",
    "cmp('bnbias', dbnbias, bnbias)\n",
    "cmp('bnvar_inv', dbnvar_inv, bnvar_inv)\n",
    "cmp('bnvar', dbnvar, bnvar)\n",
    "cmp('bndiff2', dbndiff2, bndiff2)\n",
    "cmp('bndiff', dbndiff, bndiff)"
   ]
  },
  {
   "cell_type": "code",
   "execution_count": 406,
   "id": "a97dfc6d",
   "metadata": {},
   "outputs": [],
   "source": [
    "#next : bndiff = hprebn - bnmeani\n",
    "#checking the shapes"
   ]
  },
  {
   "cell_type": "code",
   "execution_count": 407,
   "id": "5458a1dd",
   "metadata": {},
   "outputs": [
    {
     "data": {
      "text/plain": [
       "(torch.Size([32, 200]), torch.Size([32, 200]), torch.Size([1, 200]))"
      ]
     },
     "execution_count": 407,
     "metadata": {},
     "output_type": "execute_result"
    }
   ],
   "source": [
    "bndiff.shape, hprebn.shape, bnmeani.shape\n",
    "#bnmeani is actually broadcasting"
   ]
  },
  {
   "cell_type": "code",
   "execution_count": 408,
   "id": "d5c29f64",
   "metadata": {},
   "outputs": [],
   "source": [
    "#Now we know, a broadcasting in forward pass is variable reuse, therefore it will sum in the backward pass"
   ]
  },
  {
   "cell_type": "code",
   "execution_count": 409,
   "id": "7d0f2726",
   "metadata": {},
   "outputs": [],
   "source": [
    "dhprebn = dbndiff.clone() \n",
    "#since bndiff & bprebn are same shape, the local derivative for each one of the elements in\n",
    "#dbndiff is just one for the corresponding element in hpbren\n",
    "#basically these are copies i.e. just a variable assignment\n",
    "dbnmeani = (-torch.ones_like(bndiff) * dbndiff).sum(0)"
   ]
  },
  {
   "cell_type": "code",
   "execution_count": 410,
   "id": "74226a46",
   "metadata": {},
   "outputs": [
    {
     "name": "stdout",
     "output_type": "stream",
     "text": [
      "logprobs        | exact: True  | approximate: True  | maxdiff: 0.0\n",
      "probs           | exact: True  | approximate: True  | maxdiff: 0.0\n",
      "counts_sum_inv  | exact: True  | approximate: True  | maxdiff: 0.0\n",
      "counts_sum      | exact: True  | approximate: True  | maxdiff: 0.0\n",
      "counts          | exact: True  | approximate: True  | maxdiff: 0.0\n",
      "norm_logits     | exact: True  | approximate: True  | maxdiff: 0.0\n",
      "logit_maxes     | exact: True  | approximate: True  | maxdiff: 0.0\n",
      "logits          | exact: True  | approximate: True  | maxdiff: 0.0\n",
      "h               | exact: True  | approximate: True  | maxdiff: 0.0\n",
      "W2              | exact: True  | approximate: True  | maxdiff: 0.0\n",
      "b2              | exact: True  | approximate: True  | maxdiff: 0.0\n",
      "hpreact         | exact: True  | approximate: True  | maxdiff: 0.0\n",
      "bngain          | exact: True  | approximate: True  | maxdiff: 0.0\n",
      "bnraw           | exact: True  | approximate: True  | maxdiff: 0.0\n",
      "bnbias          | exact: True  | approximate: True  | maxdiff: 0.0\n",
      "bnvar_inv       | exact: True  | approximate: True  | maxdiff: 0.0\n",
      "bnvar           | exact: True  | approximate: True  | maxdiff: 0.0\n",
      "bndiff2         | exact: True  | approximate: True  | maxdiff: 0.0\n",
      "bndiff          | exact: True  | approximate: True  | maxdiff: 0.0\n",
      "hprebn          | exact: False | approximate: False | maxdiff: 0.0015159054892137647\n",
      "bnmeani         | exact: True  | approximate: True  | maxdiff: 0.0\n"
     ]
    }
   ],
   "source": [
    "cmp('logprobs', dlogprobs, logprobs)\n",
    "cmp('probs', dprobs, probs)\n",
    "cmp('counts_sum_inv', dcounts_sum_inv, counts_sum_inv)\n",
    "cmp('counts_sum', dcounts_sum, counts_sum)\n",
    "cmp('counts', dcounts, counts)\n",
    "cmp('norm_logits', dnorm_logits, norm_logits)\n",
    "cmp('logit_maxes', dlogit_maxes, logit_maxes)\n",
    "cmp('logits', dlogits, logits)\n",
    "cmp('h', dh, h)\n",
    "cmp('W2', dW2, W2)\n",
    "cmp('b2', db2, b2)\n",
    "cmp('hpreact', dhpreact, hpreact)\n",
    "cmp('bngain', dbngain, bngain)\n",
    "cmp('bnraw', dbnraw, bnraw)\n",
    "cmp('bnbias', dbnbias, bnbias)\n",
    "cmp('bnvar_inv', dbnvar_inv, bnvar_inv)\n",
    "cmp('bnvar', dbnvar, bnvar)\n",
    "cmp('bndiff2', dbndiff2, bndiff2)\n",
    "cmp('bndiff', dbndiff, bndiff)\n",
    "cmp('hprebn', dhprebn, hprebn)\n",
    "cmp('bnmeani', dbnmeani, bnmeani)"
   ]
  },
  {
   "cell_type": "code",
   "execution_count": 411,
   "id": "5c45c99a",
   "metadata": {},
   "outputs": [],
   "source": [
    "#hprebn has 2nd branch, hence we need to calculate its gradient for correct results"
   ]
  },
  {
   "cell_type": "code",
   "execution_count": 412,
   "id": "06f2b27d",
   "metadata": {},
   "outputs": [],
   "source": [
    "#Next, backpropagate step : bnmeani = 1/n*hprebn.sum(0, keepdim=True)\n",
    "#here there is sum along 0th dimension, this will change into broadcasting in backward pass now\n",
    "#this is very similar to step bnvar = 1/(n-1)*(bndiff2).sum(0, keepdim=True)"
   ]
  },
  {
   "cell_type": "code",
   "execution_count": 413,
   "id": "aad0b2d6",
   "metadata": {},
   "outputs": [],
   "source": [
    "dhprebn += (1.0/n) *  (torch.ones_like(hprebn) * dbnmeani)\n",
    "#gradient dbnmeani will be scaled over 1/n & it's going to flow across all the columns and deposit into hprebn"
   ]
  },
  {
   "cell_type": "code",
   "execution_count": 414,
   "id": "b443e099",
   "metadata": {},
   "outputs": [
    {
     "name": "stdout",
     "output_type": "stream",
     "text": [
      "logprobs        | exact: True  | approximate: True  | maxdiff: 0.0\n",
      "probs           | exact: True  | approximate: True  | maxdiff: 0.0\n",
      "counts_sum_inv  | exact: True  | approximate: True  | maxdiff: 0.0\n",
      "counts_sum      | exact: True  | approximate: True  | maxdiff: 0.0\n",
      "counts          | exact: True  | approximate: True  | maxdiff: 0.0\n",
      "norm_logits     | exact: True  | approximate: True  | maxdiff: 0.0\n",
      "logit_maxes     | exact: True  | approximate: True  | maxdiff: 0.0\n",
      "logits          | exact: True  | approximate: True  | maxdiff: 0.0\n",
      "h               | exact: True  | approximate: True  | maxdiff: 0.0\n",
      "W2              | exact: True  | approximate: True  | maxdiff: 0.0\n",
      "b2              | exact: True  | approximate: True  | maxdiff: 0.0\n",
      "hpreact         | exact: True  | approximate: True  | maxdiff: 0.0\n",
      "bngain          | exact: True  | approximate: True  | maxdiff: 0.0\n",
      "bnraw           | exact: True  | approximate: True  | maxdiff: 0.0\n",
      "bnbias          | exact: True  | approximate: True  | maxdiff: 0.0\n",
      "bnvar_inv       | exact: True  | approximate: True  | maxdiff: 0.0\n",
      "bnvar           | exact: True  | approximate: True  | maxdiff: 0.0\n",
      "bndiff2         | exact: True  | approximate: True  | maxdiff: 0.0\n",
      "bndiff          | exact: True  | approximate: True  | maxdiff: 0.0\n",
      "hprebn          | exact: True  | approximate: True  | maxdiff: 0.0\n",
      "bnmeani         | exact: True  | approximate: True  | maxdiff: 0.0\n"
     ]
    }
   ],
   "source": [
    "cmp('logprobs', dlogprobs, logprobs)\n",
    "cmp('probs', dprobs, probs)\n",
    "cmp('counts_sum_inv', dcounts_sum_inv, counts_sum_inv)\n",
    "cmp('counts_sum', dcounts_sum, counts_sum)\n",
    "cmp('counts', dcounts, counts)\n",
    "cmp('norm_logits', dnorm_logits, norm_logits)\n",
    "cmp('logit_maxes', dlogit_maxes, logit_maxes)\n",
    "cmp('logits', dlogits, logits)\n",
    "cmp('h', dh, h)\n",
    "cmp('W2', dW2, W2)\n",
    "cmp('b2', db2, b2)\n",
    "cmp('hpreact', dhpreact, hpreact)\n",
    "cmp('bngain', dbngain, bngain)\n",
    "cmp('bnraw', dbnraw, bnraw)\n",
    "cmp('bnbias', dbnbias, bnbias)\n",
    "cmp('bnvar_inv', dbnvar_inv, bnvar_inv)\n",
    "cmp('bnvar', dbnvar, bnvar)\n",
    "cmp('bndiff2', dbndiff2, bndiff2)\n",
    "cmp('bndiff', dbndiff, bndiff)\n",
    "cmp('hprebn', dhprebn, hprebn)\n",
    "cmp('bnmeani', dbnmeani, bnmeani)"
   ]
  },
  {
   "cell_type": "code",
   "execution_count": 415,
   "id": "bbf31d7c",
   "metadata": {},
   "outputs": [],
   "source": [
    "#now hprebn gradient matching with pytorch"
   ]
  },
  {
   "cell_type": "code",
   "execution_count": 416,
   "id": "696928cc",
   "metadata": {},
   "outputs": [],
   "source": [
    "#Next backpropagate through linear layer: hprebn = embcat @ W1 + b1\n",
    "#finding the shapes 1st"
   ]
  },
  {
   "cell_type": "code",
   "execution_count": 417,
   "id": "25f93185",
   "metadata": {},
   "outputs": [
    {
     "data": {
      "text/plain": [
       "(torch.Size([32, 200]),\n",
       " torch.Size([32, 30]),\n",
       " torch.Size([30, 200]),\n",
       " torch.Size([200]))"
      ]
     },
     "execution_count": 417,
     "metadata": {},
     "output_type": "execute_result"
    }
   ],
   "source": [
    "hprebn.shape, embcat.shape, W1.shape, b1.shape"
   ]
  },
  {
   "cell_type": "code",
   "execution_count": 418,
   "id": "c656b139",
   "metadata": {},
   "outputs": [],
   "source": [
    "#backpropagating through linear layer is easy, just by matching the shape"
   ]
  },
  {
   "cell_type": "code",
   "execution_count": 419,
   "id": "ba192ef0",
   "metadata": {},
   "outputs": [],
   "source": [
    "dembcat = dhprebn @ W1.T #matrix multiplication of dhprebn with W1 and one transpose thrown in there\n",
    "#make dembcat 32 * 30 = dhprebn 32 * 200 multiply with W1 30 * 200 transpose"
   ]
  },
  {
   "cell_type": "code",
   "execution_count": 420,
   "id": "1836764c",
   "metadata": {},
   "outputs": [],
   "source": [
    "dW1 = embcat.T @ dhprebn #shape should be 30 * 200"
   ]
  },
  {
   "cell_type": "code",
   "execution_count": 421,
   "id": "b38883e7",
   "metadata": {},
   "outputs": [],
   "source": [
    "db1 = dhprebn.sum(0) #summing along 0, so we eleminate 32 dim and have only 200 "
   ]
  },
  {
   "cell_type": "code",
   "execution_count": 422,
   "id": "a29df412",
   "metadata": {},
   "outputs": [
    {
     "name": "stdout",
     "output_type": "stream",
     "text": [
      "logprobs        | exact: True  | approximate: True  | maxdiff: 0.0\n",
      "probs           | exact: True  | approximate: True  | maxdiff: 0.0\n",
      "counts_sum_inv  | exact: True  | approximate: True  | maxdiff: 0.0\n",
      "counts_sum      | exact: True  | approximate: True  | maxdiff: 0.0\n",
      "counts          | exact: True  | approximate: True  | maxdiff: 0.0\n",
      "norm_logits     | exact: True  | approximate: True  | maxdiff: 0.0\n",
      "logit_maxes     | exact: True  | approximate: True  | maxdiff: 0.0\n",
      "logits          | exact: True  | approximate: True  | maxdiff: 0.0\n",
      "h               | exact: True  | approximate: True  | maxdiff: 0.0\n",
      "W2              | exact: True  | approximate: True  | maxdiff: 0.0\n",
      "b2              | exact: True  | approximate: True  | maxdiff: 0.0\n",
      "hpreact         | exact: True  | approximate: True  | maxdiff: 0.0\n",
      "bngain          | exact: True  | approximate: True  | maxdiff: 0.0\n",
      "bnraw           | exact: True  | approximate: True  | maxdiff: 0.0\n",
      "bnbias          | exact: True  | approximate: True  | maxdiff: 0.0\n",
      "bnvar_inv       | exact: True  | approximate: True  | maxdiff: 0.0\n",
      "bnvar           | exact: True  | approximate: True  | maxdiff: 0.0\n",
      "bndiff2         | exact: True  | approximate: True  | maxdiff: 0.0\n",
      "bndiff          | exact: True  | approximate: True  | maxdiff: 0.0\n",
      "hprebn          | exact: True  | approximate: True  | maxdiff: 0.0\n",
      "bnmeani         | exact: True  | approximate: True  | maxdiff: 0.0\n",
      "embcat          | exact: True  | approximate: True  | maxdiff: 0.0\n",
      "W1              | exact: True  | approximate: True  | maxdiff: 0.0\n",
      "b1              | exact: True  | approximate: True  | maxdiff: 0.0\n"
     ]
    }
   ],
   "source": [
    "cmp('logprobs', dlogprobs, logprobs)\n",
    "cmp('probs', dprobs, probs)\n",
    "cmp('counts_sum_inv', dcounts_sum_inv, counts_sum_inv)\n",
    "cmp('counts_sum', dcounts_sum, counts_sum)\n",
    "cmp('counts', dcounts, counts)\n",
    "cmp('norm_logits', dnorm_logits, norm_logits)\n",
    "cmp('logit_maxes', dlogit_maxes, logit_maxes)\n",
    "cmp('logits', dlogits, logits)\n",
    "cmp('h', dh, h)\n",
    "cmp('W2', dW2, W2)\n",
    "cmp('b2', db2, b2)\n",
    "cmp('hpreact', dhpreact, hpreact)\n",
    "cmp('bngain', dbngain, bngain)\n",
    "cmp('bnraw', dbnraw, bnraw)\n",
    "cmp('bnbias', dbnbias, bnbias)\n",
    "cmp('bnvar_inv', dbnvar_inv, bnvar_inv)\n",
    "cmp('bnvar', dbnvar, bnvar)\n",
    "cmp('bndiff2', dbndiff2, bndiff2)\n",
    "cmp('bndiff', dbndiff, bndiff)\n",
    "cmp('hprebn', dhprebn, hprebn)\n",
    "cmp('bnmeani', dbnmeani, bnmeani)\n",
    "cmp('embcat', dembcat, embcat)\n",
    "cmp('W1', dW1, W1)\n",
    "cmp('b1', db1, b1)"
   ]
  },
  {
   "cell_type": "code",
   "execution_count": 423,
   "id": "7bd08eab",
   "metadata": {},
   "outputs": [],
   "source": [
    "#now we have derivative for embcat, we want to back propagate into emb view : embcat = emb.view(emb.shape[0], -1)"
   ]
  },
  {
   "cell_type": "code",
   "execution_count": 424,
   "id": "6fccd669",
   "metadata": {},
   "outputs": [
    {
     "data": {
      "text/plain": [
       "(torch.Size([32, 30]), torch.Size([32, 3, 10]))"
      ]
     },
     "execution_count": 424,
     "metadata": {},
     "output_type": "execute_result"
    }
   ],
   "source": [
    "embcat.shape, emb.shape"
   ]
  },
  {
   "cell_type": "code",
   "execution_count": 425,
   "id": "d5cd7a34",
   "metadata": {},
   "outputs": [],
   "source": [
    "#notice the shapes, emb has the concatenation of 3 - 10 dim vectors"
   ]
  },
  {
   "cell_type": "code",
   "execution_count": 426,
   "id": "1bb21376",
   "metadata": {},
   "outputs": [],
   "source": [
    "demb = dembcat.view(emb.shape) #just unpacking"
   ]
  },
  {
   "cell_type": "code",
   "execution_count": 427,
   "id": "d14a848e",
   "metadata": {},
   "outputs": [
    {
     "name": "stdout",
     "output_type": "stream",
     "text": [
      "logprobs        | exact: True  | approximate: True  | maxdiff: 0.0\n",
      "probs           | exact: True  | approximate: True  | maxdiff: 0.0\n",
      "counts_sum_inv  | exact: True  | approximate: True  | maxdiff: 0.0\n",
      "counts_sum      | exact: True  | approximate: True  | maxdiff: 0.0\n",
      "counts          | exact: True  | approximate: True  | maxdiff: 0.0\n",
      "norm_logits     | exact: True  | approximate: True  | maxdiff: 0.0\n",
      "logit_maxes     | exact: True  | approximate: True  | maxdiff: 0.0\n",
      "logits          | exact: True  | approximate: True  | maxdiff: 0.0\n",
      "h               | exact: True  | approximate: True  | maxdiff: 0.0\n",
      "W2              | exact: True  | approximate: True  | maxdiff: 0.0\n",
      "b2              | exact: True  | approximate: True  | maxdiff: 0.0\n",
      "hpreact         | exact: True  | approximate: True  | maxdiff: 0.0\n",
      "bngain          | exact: True  | approximate: True  | maxdiff: 0.0\n",
      "bnraw           | exact: True  | approximate: True  | maxdiff: 0.0\n",
      "bnbias          | exact: True  | approximate: True  | maxdiff: 0.0\n",
      "bnvar_inv       | exact: True  | approximate: True  | maxdiff: 0.0\n",
      "bnvar           | exact: True  | approximate: True  | maxdiff: 0.0\n",
      "bndiff2         | exact: True  | approximate: True  | maxdiff: 0.0\n",
      "bndiff          | exact: True  | approximate: True  | maxdiff: 0.0\n",
      "hprebn          | exact: True  | approximate: True  | maxdiff: 0.0\n",
      "bnmeani         | exact: True  | approximate: True  | maxdiff: 0.0\n",
      "embcat          | exact: True  | approximate: True  | maxdiff: 0.0\n",
      "W1              | exact: True  | approximate: True  | maxdiff: 0.0\n",
      "b1              | exact: True  | approximate: True  | maxdiff: 0.0\n",
      "emb             | exact: True  | approximate: True  | maxdiff: 0.0\n"
     ]
    }
   ],
   "source": [
    "cmp('logprobs', dlogprobs, logprobs)\n",
    "cmp('probs', dprobs, probs)\n",
    "cmp('counts_sum_inv', dcounts_sum_inv, counts_sum_inv)\n",
    "cmp('counts_sum', dcounts_sum, counts_sum)\n",
    "cmp('counts', dcounts, counts)\n",
    "cmp('norm_logits', dnorm_logits, norm_logits)\n",
    "cmp('logit_maxes', dlogit_maxes, logit_maxes)\n",
    "cmp('logits', dlogits, logits)\n",
    "cmp('h', dh, h)\n",
    "cmp('W2', dW2, W2)\n",
    "cmp('b2', db2, b2)\n",
    "cmp('hpreact', dhpreact, hpreact)\n",
    "cmp('bngain', dbngain, bngain)\n",
    "cmp('bnraw', dbnraw, bnraw)\n",
    "cmp('bnbias', dbnbias, bnbias)\n",
    "cmp('bnvar_inv', dbnvar_inv, bnvar_inv)\n",
    "cmp('bnvar', dbnvar, bnvar)\n",
    "cmp('bndiff2', dbndiff2, bndiff2)\n",
    "cmp('bndiff', dbndiff, bndiff)\n",
    "cmp('hprebn', dhprebn, hprebn)\n",
    "cmp('bnmeani', dbnmeani, bnmeani)\n",
    "cmp('embcat', dembcat, embcat)\n",
    "cmp('W1', dW1, W1)\n",
    "cmp('b1', db1, b1)\n",
    "cmp('emb', demb, emb)"
   ]
  },
  {
   "cell_type": "code",
   "execution_count": 428,
   "id": "ed18acde",
   "metadata": {},
   "outputs": [],
   "source": [
    "#Now we are in final line, only line to backpropagate is emb = C[Xb]\n",
    "#lets look at the shape"
   ]
  },
  {
   "cell_type": "code",
   "execution_count": 429,
   "id": "e5860adb",
   "metadata": {},
   "outputs": [
    {
     "data": {
      "text/plain": [
       "(torch.Size([32, 3, 10]), torch.Size([27, 10]), torch.Size([32, 3]))"
      ]
     },
     "execution_count": 429,
     "metadata": {},
     "output_type": "execute_result"
    }
   ],
   "source": [
    "emb.shape, C.shape, Xb.shape"
   ]
  },
  {
   "cell_type": "code",
   "execution_count": 430,
   "id": "af0c5e9b",
   "metadata": {},
   "outputs": [],
   "source": [
    "#emb has shpae of 32 examples * 3 characters * 10 dimensional embedding\n",
    "#this was achieved by using lookup table C which has 27 Possible characters * 10 dimensional\n",
    "#we looked up at the rows that were specified inside the tensor Xb which is 32 for each example giving index * 3"
   ]
  },
  {
   "cell_type": "code",
   "execution_count": 431,
   "id": "ae53bf3e",
   "metadata": {},
   "outputs": [
    {
     "data": {
      "text/plain": [
       "tensor([[ 4,  5, 23],\n",
       "        [18, 14, 21],\n",
       "        [12, 12, 25],\n",
       "        [ 5,  5,  3],\n",
       "        [ 5, 12,  5]])"
      ]
     },
     "execution_count": 431,
     "metadata": {},
     "output_type": "execute_result"
    }
   ],
   "source": [
    "Xb[:5] #printing 1st  chars"
   ]
  },
  {
   "cell_type": "code",
   "execution_count": 432,
   "id": "a4cefd4d",
   "metadata": {},
   "outputs": [],
   "source": [
    "#row 1 indicates 4th char, 5th char & 23 char --> predict the next char in the sequence\n",
    "#basically there are integers inside Xb and each of these integers specifying which row of C we want to pluck out \n",
    "#and then we arange those rows that we've plucked out into 32 * 3 * 10 tensors and  we just package them into the tensor"
   ]
  },
  {
   "cell_type": "code",
   "execution_count": 433,
   "id": "e972ab45",
   "metadata": {},
   "outputs": [],
   "source": [
    "#now, we have demb - gradients of plucked out rows, we just need to route this gradient backwards through this assignment\n",
    "#So we need to find which row of C that every one of these 10 dim embeddings comes from & then we need to deposit them\n",
    "#into DC i.e. just undo the indexing "
   ]
  },
  {
   "cell_type": "code",
   "execution_count": 434,
   "id": "3e9a2661",
   "metadata": {},
   "outputs": [],
   "source": [
    "dC = torch.zeros_like(C) #intialize 27 * 10 with all zeros\n",
    "for k in range(Xb.shape[0]): #iterating over all the rows & columns of Xb\n",
    "    for j in range(Xb.shape[1]):\n",
    "        ix = Xb[k, j] #getting the index of current char\n",
    "        #in forward pass we took row of C at index and we deposited it into emb at K of J\n",
    "        #now we need to go back and we just need to route demb\n",
    "        dC[ix] += demb[k, j] #adding because of multiple occurance of characters in each input"
   ]
  },
  {
   "cell_type": "code",
   "execution_count": 435,
   "id": "f3584ce9",
   "metadata": {},
   "outputs": [
    {
     "name": "stdout",
     "output_type": "stream",
     "text": [
      "logprobs        | exact: True  | approximate: True  | maxdiff: 0.0\n",
      "probs           | exact: True  | approximate: True  | maxdiff: 0.0\n",
      "counts_sum_inv  | exact: True  | approximate: True  | maxdiff: 0.0\n",
      "counts_sum      | exact: True  | approximate: True  | maxdiff: 0.0\n",
      "counts          | exact: True  | approximate: True  | maxdiff: 0.0\n",
      "norm_logits     | exact: True  | approximate: True  | maxdiff: 0.0\n",
      "logit_maxes     | exact: True  | approximate: True  | maxdiff: 0.0\n",
      "logits          | exact: True  | approximate: True  | maxdiff: 0.0\n",
      "h               | exact: True  | approximate: True  | maxdiff: 0.0\n",
      "W2              | exact: True  | approximate: True  | maxdiff: 0.0\n",
      "b2              | exact: True  | approximate: True  | maxdiff: 0.0\n",
      "hpreact         | exact: True  | approximate: True  | maxdiff: 0.0\n",
      "bngain          | exact: True  | approximate: True  | maxdiff: 0.0\n",
      "bnraw           | exact: True  | approximate: True  | maxdiff: 0.0\n",
      "bnbias          | exact: True  | approximate: True  | maxdiff: 0.0\n",
      "bnvar_inv       | exact: True  | approximate: True  | maxdiff: 0.0\n",
      "bnvar           | exact: True  | approximate: True  | maxdiff: 0.0\n",
      "bndiff2         | exact: True  | approximate: True  | maxdiff: 0.0\n",
      "bndiff          | exact: True  | approximate: True  | maxdiff: 0.0\n",
      "hprebn          | exact: True  | approximate: True  | maxdiff: 0.0\n",
      "bnmeani         | exact: True  | approximate: True  | maxdiff: 0.0\n",
      "embcat          | exact: True  | approximate: True  | maxdiff: 0.0\n",
      "W1              | exact: True  | approximate: True  | maxdiff: 0.0\n",
      "b1              | exact: True  | approximate: True  | maxdiff: 0.0\n",
      "emb             | exact: True  | approximate: True  | maxdiff: 0.0\n",
      "C               | exact: True  | approximate: True  | maxdiff: 0.0\n"
     ]
    }
   ],
   "source": [
    "cmp('logprobs', dlogprobs, logprobs)\n",
    "cmp('probs', dprobs, probs)\n",
    "cmp('counts_sum_inv', dcounts_sum_inv, counts_sum_inv)\n",
    "cmp('counts_sum', dcounts_sum, counts_sum)\n",
    "cmp('counts', dcounts, counts)\n",
    "cmp('norm_logits', dnorm_logits, norm_logits)\n",
    "cmp('logit_maxes', dlogit_maxes, logit_maxes)\n",
    "cmp('logits', dlogits, logits)\n",
    "cmp('h', dh, h)\n",
    "cmp('W2', dW2, W2)\n",
    "cmp('b2', db2, b2)\n",
    "cmp('hpreact', dhpreact, hpreact)\n",
    "cmp('bngain', dbngain, bngain)\n",
    "cmp('bnraw', dbnraw, bnraw)\n",
    "cmp('bnbias', dbnbias, bnbias)\n",
    "cmp('bnvar_inv', dbnvar_inv, bnvar_inv)\n",
    "cmp('bnvar', dbnvar, bnvar)\n",
    "cmp('bndiff2', dbndiff2, bndiff2)\n",
    "cmp('bndiff', dbndiff, bndiff)\n",
    "cmp('hprebn', dhprebn, hprebn)\n",
    "cmp('bnmeani', dbnmeani, bnmeani)\n",
    "cmp('embcat', dembcat, embcat)\n",
    "cmp('W1', dW1, W1)\n",
    "cmp('b1', db1, b1)\n",
    "cmp('emb', demb, emb)\n",
    "cmp('C', dC, C)"
   ]
  },
  {
   "cell_type": "code",
   "execution_count": 436,
   "id": "9d950551",
   "metadata": {},
   "outputs": [
    {
     "name": "stdout",
     "output_type": "stream",
     "text": [
      "3.793226718902588 diff: 0.0\n"
     ]
    }
   ],
   "source": [
    "#Exercise 2: backprop through cross entropy but all in one go\n",
    "#to complete this challenge look at the mathematical expression of the loss,\n",
    "#take the derivative, simplify the expression, and nust write it out\n",
    "\n",
    "#forwar pass\n",
    "\n",
    "#before:\n",
    "#logit_maxes = logits.max(1, keepdim=True).values\n",
    "#norm_logits = logits - logit_maxes #subtract max for numerical stability\n",
    "#counts = norm_logits.exp()\n",
    "#counts_sum = counts.sum(1, keepdim=True)\n",
    "#counts_sum_inv = counts_sum**-1 #if I use (1.0/ counts_sum) instead then i cant get backprop to be bit exact\n",
    "#probs = count * counts_sum_inv\n",
    "#logprobs = probs.log()\n",
    "#loss = -logprobs[range(n), Yb].mean()\n",
    "\n",
    "#now:\n",
    "\n",
    "loss_fast = F.cross_entropy(logits, Yb)\n",
    "print(loss_fast.item(), 'diff:', (loss_fast - loss).item())"
   ]
  },
  {
   "cell_type": "code",
   "execution_count": 438,
   "id": "d9d0c287",
   "metadata": {},
   "outputs": [],
   "source": [
    "#now we have come to Exercise2\n",
    "#in exercise 1 we broken loss function into multiple lines and backpropagated, but in practical we leverage torch function\n",
    "#but mathematically if we take derivative of loss function and solver it is much simple to backpropagate\n",
    "#in pytorch everything is simplified using single call F.cross_entropy\n",
    "#so wanted , using single operation or call, need to backpropagate the loss function"
   ]
  },
  {
   "cell_type": "code",
   "execution_count": null,
   "id": "6964c0a3",
   "metadata": {},
   "outputs": [],
   "source": [
    "#we can derive what exactly the mathematical expression of loss and differentiate with respect to logits\n",
    "#we logits - applying softmax will give - probabilities\n",
    "#we are using the identity of correct next char to pluck out the row of probabilities \n",
    "#take negative log of it , to get out negative log probability \n",
    "#average up all to get loss value"
   ]
  },
  {
   "cell_type": "code",
   "execution_count": 437,
   "id": "d2175a57",
   "metadata": {},
   "outputs": [
    {
     "data": {
      "image/jpeg": "[encoded data removed]",
      "text/plain": [
       "<IPython.core.display.Image object>"
      ]
     },
     "metadata": {},
     "output_type": "display_data"
    }
   ],
   "source": [
    "x = Image(filename=r\"C:\\Users\\welcome\\Desktop\\AndrejKarpathy\\cross.JPG\")\n",
    "display(x)"
   ]
  },
  {
   "cell_type": "code",
   "execution_count": null,
   "id": "ccebe86d",
   "metadata": {},
   "outputs": [],
   "source": [
    "#expression is simplified based on output matching or not i.e. ith index we are looking whether equal to label or not\n",
    "#we end up with Pi or Pi -1 where Pi is vector of probabilities after a softmax \n",
    "#so in any case we just need to calculate the softmax function and then in correct dimension we need to subtract 1\n",
    "#we need to apply this for whole batch & the loss for a batch is the average loss over all the examples"
   ]
  },
  {
   "cell_type": "code",
   "execution_count": 439,
   "id": "b3487817",
   "metadata": {},
   "outputs": [],
   "source": [
    "dlogits = F.softmax(logits, 1) #applying softmax on the logits as per above derivative along the axis 1 i.e rows\n",
    "dlogits[range(n), Yb] -= 1 #at correct position, we subtract 1\n",
    "dlogits /= n #finally, average loss so divide by n"
   ]
  },
  {
   "cell_type": "code",
   "execution_count": 440,
   "id": "7441b06c",
   "metadata": {},
   "outputs": [
    {
     "name": "stdout",
     "output_type": "stream",
     "text": [
      "logits          | exact: False | approximate: True  | maxdiff: 4.889443516731262e-09\n"
     ]
    }
   ],
   "source": [
    "cmp('logits', dlogits, logits)"
   ]
  },
  {
   "cell_type": "code",
   "execution_count": 441,
   "id": "db9e3e65",
   "metadata": {},
   "outputs": [],
   "source": [
    "#max diff is very small, very small difference, because of floating point differences"
   ]
  },
  {
   "cell_type": "code",
   "execution_count": 442,
   "id": "b1026338",
   "metadata": {},
   "outputs": [],
   "source": [
    "#before we move, lets take a look at dlogits and understand intutively"
   ]
  },
  {
   "cell_type": "code",
   "execution_count": 444,
   "id": "48d015bc",
   "metadata": {},
   "outputs": [
    {
     "data": {
      "text/plain": [
       "<matplotlib.image.AxesImage at 0x1eea6686220>"
      ]
     },
     "execution_count": 444,
     "metadata": {},
     "output_type": "execute_result"
    },
    {
     "data": {
      "image/png": "[encoded data removed]",
      "text/plain": [
       "<Figure size 576x576 with 1 Axes>"
      ]
     },
     "metadata": {
      "needs_background": "light"
     },
     "output_type": "display_data"
    }
   ],
   "source": [
    "plt.figure(figsize=(8,8))\n",
    "plt.imshow(dlogits.detach(), cmap='gray') #taking the logits & visualizing it\n",
    "#notice we have batch of 32 examples of 27 characters\n",
    "#dlogits is the probabilities that the probability matrix in forward pass\n",
    "#black spots are position of correct indices where we subtracted a 1"
   ]
  },
  {
   "cell_type": "code",
   "execution_count": 445,
   "id": "0678dd39",
   "metadata": {},
   "outputs": [
    {
     "data": {
      "text/plain": [
       "tensor([0.0111, 0.1961, 0.0171, 0.0336, 0.0512, 0.0206, 0.0104, 0.0123, 0.0303,\n",
       "        0.0277, 0.0613, 0.0072, 0.0262, 0.0072, 0.0205, 0.0190, 0.0279, 0.0058,\n",
       "        0.0023, 0.0159, 0.1343, 0.0410, 0.0817, 0.0144, 0.0043, 0.0574, 0.0633],\n",
       "       grad_fn=<SelectBackward0>)"
      ]
     },
     "execution_count": 445,
     "metadata": {},
     "output_type": "execute_result"
    }
   ],
   "source": [
    "#lets take a look at 1st row of dlogits\n",
    "F.softmax(logits, 1)[0]"
   ]
  },
  {
   "cell_type": "code",
   "execution_count": 446,
   "id": "9c2ab3c3",
   "metadata": {},
   "outputs": [
    {
     "data": {
      "text/plain": [
       "tensor([ 0.0111, -0.8039,  0.0171,  0.0336,  0.0512,  0.0206,  0.0104,  0.0123,\n",
       "         0.0303,  0.0277,  0.0613,  0.0072,  0.0262,  0.0072,  0.0205,  0.0190,\n",
       "         0.0279,  0.0058,  0.0023,  0.0159,  0.1343,  0.0410,  0.0817,  0.0144,\n",
       "         0.0043,  0.0574,  0.0633], grad_fn=<MulBackward0>)"
      ]
     },
     "execution_count": 446,
     "metadata": {},
     "output_type": "execute_result"
    }
   ],
   "source": [
    "dlogits[0] * n"
   ]
  },
  {
   "cell_type": "code",
   "execution_count": 447,
   "id": "44e364a3",
   "metadata": {},
   "outputs": [],
   "source": [
    "#notice both are same except at position of correct indices where we subtracted -1 "
   ]
  },
  {
   "cell_type": "code",
   "execution_count": 448,
   "id": "1e2ee58b",
   "metadata": {},
   "outputs": [
    {
     "data": {
      "text/plain": [
       "tensor(-1.2806e-09, grad_fn=<SumBackward0>)"
      ]
     },
     "execution_count": 448,
     "metadata": {},
     "output_type": "execute_result"
    }
   ],
   "source": [
    "dlogits[0].sum()\n",
    "#notice it sums upto 0"
   ]
  },
  {
   "cell_type": "code",
   "execution_count": 449,
   "id": "100a4c00",
   "metadata": {},
   "outputs": [],
   "source": [
    "#these gradients at each cell as a force we are basically pulling down on the probabilities of the incorrect characters\n",
    "#and pulling up the probabilities at the correct index\n",
    "#push & pull are equalized, hence sum = 0\n",
    "#so, if we mispredicted the correct index, then probabilities are pulled down heavily"
   ]
  },
  {
   "cell_type": "code",
   "execution_count": 450,
   "id": "3b5517a8",
   "metadata": {},
   "outputs": [],
   "source": [
    "#Excercise3: backprop throught batchnorm but all in one go\n",
    "#to complete this challenge look at the mathematical expression of the output of batchnorm, \n",
    "#take the deivative w.r.t its input, simlify the expresion, and just write it out\n",
    "\n",
    "#forward pass\n",
    "\n",
    "#before:\n",
    "#bnmeani = 1/n * hprebn.sum(0, keepdim = True)\n",
    "#bndiff = bprebn - bnmeani\n",
    "#bndiff2 = bndiff ** 2\n",
    "#bnvar = 1/(n-1) * (bndiff2).sum(0, keepdim = True) #note: Bessel's correction  i.e. divide by n-1 instead n\n",
    "#bnvar_inv = (bnvar + 1e-5)**-0.5\n",
    "#bnraw = bndiff * bnvar_inv\n",
    "#hpreact = bngain * bnraw + bnbias\n"
   ]
  },
  {
   "cell_type": "code",
   "execution_count": 451,
   "id": "4e99ab9b",
   "metadata": {},
   "outputs": [
    {
     "data": {
      "image/jpeg": "[encoded data removed]",
      "text/plain": [
       "<IPython.core.display.Image object>"
      ]
     },
     "metadata": {},
     "output_type": "display_data"
    }
   ],
   "source": [
    "x = Image(filename=r\"C:\\Users\\welcome\\Desktop\\AndrejKarpathy\\bn.JPG\")\n",
    "display(x)"
   ]
  },
  {
   "cell_type": "code",
   "execution_count": 452,
   "id": "b5412201",
   "metadata": {},
   "outputs": [
    {
     "data": {
      "image/jpeg": "[encoded data removed]",
      "text/plain": [
       "<IPython.core.display.Image object>"
      ]
     },
     "metadata": {},
     "output_type": "display_data"
    }
   ],
   "source": [
    "x = Image(filename=r\"C:\\Users\\welcome\\Desktop\\AndrejKarpathy\\bn1.JPG\")\n",
    "display(x)"
   ]
  },
  {
   "cell_type": "code",
   "execution_count": null,
   "id": "c3efc7a2",
   "metadata": {},
   "outputs": [],
   "source": [
    "#now:\n",
    "#hpreact_fast = bngain * (hprebn - hprebn.mean(0, keepdim=True)) / torch.sqrt(hpbren.var(0, keepdim=True, unbiased))"
   ]
  },
  {
   "cell_type": "code",
   "execution_count": 453,
   "id": "f1798e86",
   "metadata": {},
   "outputs": [],
   "source": [
    "dhprebn = bngain*bnvar_inv/n * (n * dhpreact.sum(0) -  n/(n-1)*bnraw*(dhpreact*bnraw).sum(0))"
   ]
  },
  {
   "cell_type": "code",
   "execution_count": 454,
   "id": "bf7248e7",
   "metadata": {},
   "outputs": [
    {
     "name": "stdout",
     "output_type": "stream",
     "text": [
      "hprebn          | exact: False | approximate: False | maxdiff: 0.05224885046482086\n"
     ]
    }
   ],
   "source": [
    "cmp('hprebn', dhprebn, hprebn)"
   ]
  },
  {
   "cell_type": "code",
   "execution_count": 459,
   "id": "bd09570a",
   "metadata": {},
   "outputs": [
    {
     "name": "stdout",
     "output_type": "stream",
     "text": [
      "12297\n",
      "      0/ 200000: 3.8104\n",
      "  10000/ 200000: 2.1982\n",
      "  20000/ 200000: 2.4220\n",
      "  30000/ 200000: 2.4678\n",
      "  40000/ 200000: 1.9518\n",
      "  50000/ 200000: 2.4469\n",
      "  60000/ 200000: 2.4178\n",
      "  70000/ 200000: 2.0945\n",
      "  80000/ 200000: 2.3269\n",
      "  90000/ 200000: 2.2289\n",
      " 100000/ 200000: 2.0391\n",
      " 110000/ 200000: 2.3637\n",
      " 120000/ 200000: 1.9746\n",
      " 130000/ 200000: 2.4224\n",
      " 140000/ 200000: 2.4071\n",
      " 150000/ 200000: 2.1481\n",
      " 160000/ 200000: 1.9892\n",
      " 170000/ 200000: 1.8015\n",
      " 180000/ 200000: 1.9750\n",
      " 190000/ 200000: 1.8547\n"
     ]
    }
   ],
   "source": [
    "#Exercise 4: Pulling it all together\n",
    "# Train the MLP neural net with your own backward pass\n",
    "\n",
    "# init\n",
    "n_embd = 10 # the dimensionality of the character embedding vectors\n",
    "n_hidden = 200 # the number of neurons in the hidden layer of the MLP\n",
    "\n",
    "g = torch.Generator().manual_seed(2147483647) # for reproducibility\n",
    "C  = torch.randn((vocab_size, n_embd),            generator=g)\n",
    "# Layer 1\n",
    "W1 = torch.randn((n_embd * block_size, n_hidden), generator=g) * (5/3)/((n_embd * block_size)**0.5)\n",
    "b1 = torch.randn(n_hidden,                        generator=g) * 0.1\n",
    "# Layer 2\n",
    "W2 = torch.randn((n_hidden, vocab_size),          generator=g) * 0.1\n",
    "b2 = torch.randn(vocab_size,                      generator=g) * 0.1\n",
    "# BatchNorm parameters\n",
    "bngain = torch.randn((1, n_hidden))*0.1 + 1.0\n",
    "bnbias = torch.randn((1, n_hidden))*0.1\n",
    "\n",
    "parameters = [C, W1, b1, W2, b2, bngain, bnbias]\n",
    "print(sum(p.nelement() for p in parameters)) # number of parameters in total\n",
    "for p in parameters:\n",
    "    p.requires_grad = True\n",
    "\n",
    "# same optimization as last time\n",
    "max_steps = 200000\n",
    "batch_size = 32\n",
    "n = batch_size # convenience\n",
    "lossi = []\n",
    "\n",
    "# use this context manager for efficiency once your backward pass is written (TODO)\n",
    "with torch.no_grad():\n",
    "\n",
    "  # kick off optimization\n",
    "  for i in range(max_steps):\n",
    "\n",
    "    # minibatch construct\n",
    "    ix = torch.randint(0, Xtr.shape[0], (batch_size,), generator=g)\n",
    "    Xb, Yb = Xtr[ix], Ytr[ix] # batch X,Y\n",
    "\n",
    "    # forward pass\n",
    "    emb = C[Xb] # embed the characters into vectors\n",
    "    embcat = emb.view(emb.shape[0], -1) # concatenate the vectors\n",
    "    # Linear layer\n",
    "    hprebn = embcat @ W1 + b1 # hidden layer pre-activation\n",
    "    # BatchNorm layer\n",
    "    # -------------------------------------------------------------\n",
    "    bnmean = hprebn.mean(0, keepdim=True)\n",
    "    bnvar = hprebn.var(0, keepdim=True, unbiased=True)\n",
    "    bnvar_inv = (bnvar + 1e-5)**-0.5\n",
    "    bnraw = (hprebn - bnmean) * bnvar_inv\n",
    "    hpreact = bngain * bnraw + bnbias\n",
    "    # -------------------------------------------------------------\n",
    "    # Non-linearity\n",
    "    h = torch.tanh(hpreact) # hidden layer\n",
    "    logits = h @ W2 + b2 # output layer\n",
    "    loss = F.cross_entropy(logits, Yb) # loss function\n",
    "\n",
    "    # backward pass\n",
    "    for p in parameters:\n",
    "        p.grad = None\n",
    "    #loss.backward() # use this for correctness comparisons, delete it later!\n",
    "\n",
    "    # manual backprop! #swole_doge_meme\n",
    "    # -----------------\n",
    "    dlogits = F.softmax(logits, 1)\n",
    "    dlogits[range(n), Yb] -= 1\n",
    "    dlogits /= n\n",
    "    # 2nd layer backprop\n",
    "    dh = dlogits @ W2.T\n",
    "    dW2 = h.T @ dlogits\n",
    "    db2 = dlogits.sum(0)\n",
    "    # tanh\n",
    "    dhpreact = (1.0 - h**2) * dh\n",
    "    # batchnorm backprop\n",
    "    dbngain = (bnraw * dhpreact).sum(0, keepdim=True)\n",
    "    dbnbias = dhpreact.sum(0, keepdim=True)\n",
    "    dhprebn = bngain*bnvar_inv/n * (n*dhpreact - dhpreact.sum(0) - n/(n-1)*bnraw*(dhpreact*bnraw).sum(0))\n",
    "    # 1st layer\n",
    "    dembcat = dhprebn @ W1.T\n",
    "    dW1 = embcat.T @ dhprebn\n",
    "    db1 = dhprebn.sum(0)\n",
    "    # embedding\n",
    "    demb = dembcat.view(emb.shape)\n",
    "    dC = torch.zeros_like(C)\n",
    "    for k in range(Xb.shape[0]):\n",
    "        for j in range(Xb.shape[1]):\n",
    "            ix = Xb[k,j]\n",
    "            dC[ix] += demb[k,j]\n",
    "    grads = [dC, dW1, db1, dW2, db2, dbngain, dbnbias]\n",
    "    # -----------------\n",
    "\n",
    "    # update\n",
    "    lr = 0.1 if i < 100000 else 0.01 # step learning rate decay\n",
    "    for p, grad in zip(parameters, grads):\n",
    "      #p.data += -lr * p.grad # old way of cheems doge (using PyTorch grad from .backward())\n",
    "      p.data += -lr * grad # new way of swole doge TODO: enable\n",
    "\n",
    "    # track stats\n",
    "    if i % 10000 == 0: # print every once in a while\n",
    "        print(f'{i:7d}/{max_steps:7d}: {loss.item():.4f}')\n",
    "    lossi.append(loss.log10().item())\n",
    "\n",
    "    #if i >= 100: # TODO: delete early breaking when you're ready to train the full net\n",
    "    #    break"
   ]
  },
  {
   "cell_type": "code",
   "execution_count": 456,
   "id": "f20f16de",
   "metadata": {},
   "outputs": [
    {
     "ename": "TypeError",
     "evalue": "all(): argument 'input' (position 1) must be Tensor, not bool",
     "output_type": "error",
     "traceback": [
      "\u001b[1;31m---------------------------------------------------------------------------\u001b[0m",
      "\u001b[1;31mTypeError\u001b[0m                                 Traceback (most recent call last)",
      "Input \u001b[1;32mIn [456]\u001b[0m, in \u001b[0;36m<cell line: 2>\u001b[1;34m()\u001b[0m\n\u001b[0;32m      1\u001b[0m \u001b[38;5;66;03m# useful for checking your gradients\u001b[39;00m\n\u001b[0;32m      2\u001b[0m \u001b[38;5;28;01mfor\u001b[39;00m p,g \u001b[38;5;129;01min\u001b[39;00m \u001b[38;5;28mzip\u001b[39m(parameters, grads):\n\u001b[1;32m----> 3\u001b[0m     \u001b[43mcmp\u001b[49m\u001b[43m(\u001b[49m\u001b[38;5;28;43mstr\u001b[39;49m\u001b[43m(\u001b[49m\u001b[38;5;28;43mtuple\u001b[39;49m\u001b[43m(\u001b[49m\u001b[43mp\u001b[49m\u001b[38;5;241;43m.\u001b[39;49m\u001b[43mshape\u001b[49m\u001b[43m)\u001b[49m\u001b[43m)\u001b[49m\u001b[43m,\u001b[49m\u001b[43m \u001b[49m\u001b[43mg\u001b[49m\u001b[43m,\u001b[49m\u001b[43m \u001b[49m\u001b[43mp\u001b[49m\u001b[43m)\u001b[49m\n",
      "Input \u001b[1;32mIn [295]\u001b[0m, in \u001b[0;36mcmp\u001b[1;34m(s, dt, t)\u001b[0m\n\u001b[0;32m      4\u001b[0m \u001b[38;5;28;01mdef\u001b[39;00m \u001b[38;5;21mcmp\u001b[39m(s, dt, t): \n\u001b[1;32m----> 5\u001b[0m     ex \u001b[38;5;241m=\u001b[39m \u001b[43mtorch\u001b[49m\u001b[38;5;241;43m.\u001b[39;49m\u001b[43mall\u001b[49m\u001b[43m(\u001b[49m\u001b[43mdt\u001b[49m\u001b[43m \u001b[49m\u001b[38;5;241;43m==\u001b[39;49m\u001b[43m \u001b[49m\u001b[43mt\u001b[49m\u001b[38;5;241;43m.\u001b[39;49m\u001b[43mgrad\u001b[49m\u001b[43m)\u001b[49m\u001b[38;5;241m.\u001b[39mitem() \u001b[38;5;66;03m#check if grad calcuated manully and grad from pytorch is same\u001b[39;00m\n\u001b[0;32m      6\u001b[0m     app \u001b[38;5;241m=\u001b[39m torch\u001b[38;5;241m.\u001b[39mallclose(dt, t\u001b[38;5;241m.\u001b[39mgrad) \u001b[38;5;66;03m#check if both are approximately close because of floating point operations\u001b[39;00m\n\u001b[0;32m      7\u001b[0m     maxdiff \u001b[38;5;241m=\u001b[39m (dt \u001b[38;5;241m-\u001b[39m t\u001b[38;5;241m.\u001b[39mgrad)\u001b[38;5;241m.\u001b[39mabs()\u001b[38;5;241m.\u001b[39mmax()\u001b[38;5;241m.\u001b[39mitem() \u001b[38;5;66;03m#finding difference if any between both manualy and pytorch grad\u001b[39;00m\n",
      "\u001b[1;31mTypeError\u001b[0m: all(): argument 'input' (position 1) must be Tensor, not bool"
     ]
    }
   ],
   "source": [
    "# useful for checking your gradients\n",
    "for p,g in zip(parameters, grads):\n",
    "    cmp(str(tuple(p.shape)), g, p)"
   ]
  },
  {
   "cell_type": "code",
   "execution_count": 460,
   "id": "e12b306e",
   "metadata": {},
   "outputs": [],
   "source": [
    "# calibrate the batch norm at the end of training\n",
    "\n",
    "with torch.no_grad():\n",
    "  # pass the training set through\n",
    "    emb = C[Xtr]\n",
    "    embcat = emb.view(emb.shape[0], -1)\n",
    "    hpreact = embcat @ W1 + b1\n",
    "    # measure the mean/std over the entire training set\n",
    "    bnmean = hpreact.mean(0, keepdim=True)\n",
    "    bnvar = hpreact.var(0, keepdim=True, unbiased=True)"
   ]
  },
  {
   "cell_type": "code",
   "execution_count": 461,
   "id": "3f0d0316",
   "metadata": {},
   "outputs": [
    {
     "name": "stdout",
     "output_type": "stream",
     "text": [
      "train 2.0724594593048096\n",
      "val 2.1136343479156494\n"
     ]
    }
   ],
   "source": [
    "# evaluate train and val loss\n",
    "\n",
    "@torch.no_grad() # this decorator disables gradient tracking\n",
    "def split_loss(split):\n",
    "    x,y = {\n",
    "    'train': (Xtr, Ytr),\n",
    "    'val': (Xdev, Ydev),\n",
    "    'test': (Xte, Yte),\n",
    "  }[split]\n",
    "    emb = C[x] # (N, block_size, n_embd)\n",
    "    embcat = emb.view(emb.shape[0], -1) # concat into (N, block_size * n_embd)\n",
    "    hpreact = embcat @ W1 + b1\n",
    "    hpreact = bngain * (hpreact - bnmean) * (bnvar + 1e-5)**-0.5 + bnbias\n",
    "    h = torch.tanh(hpreact) # (N, n_hidden)\n",
    "    logits = h @ W2 + b2 # (N, vocab_size)\n",
    "    loss = F.cross_entropy(logits, y)\n",
    "    print(split, loss.item())\n",
    "\n",
    "split_loss('train')\n",
    "split_loss('val')"
   ]
  },
  {
   "cell_type": "code",
   "execution_count": 462,
   "id": "8ddb6a56",
   "metadata": {},
   "outputs": [
    {
     "name": "stdout",
     "output_type": "stream",
     "text": [
      "mona.\n",
      "mayah.\n",
      "see.\n",
      "mad.\n",
      "rylla.\n",
      "emmastendraegan.\n",
      "chedielin.\n",
      "shi.\n",
      "jenleigh.\n",
      "estana.\n",
      "sephukwolter.\n",
      "noshubergihiriel.\n",
      "kindreelynn.\n",
      "novana.\n",
      "uba.\n",
      "gedi.\n",
      "jamyleyeks.\n",
      "kayshayan.\n",
      "daihaan.\n",
      "alynn.\n"
     ]
    }
   ],
   "source": [
    "# sample from the model\n",
    "g = torch.Generator().manual_seed(2147483647 + 10)\n",
    "\n",
    "for _ in range(20): \n",
    "    out = []\n",
    "    context = [0] * block_size # initialize with all ...\n",
    "    while True:\n",
    "      # ------------\n",
    "      # forward pass:\n",
    "      # Embedding\n",
    "        emb = C[torch.tensor([context])] # (1,block_size,d)      \n",
    "        embcat = emb.view(emb.shape[0], -1) # concat into (N, block_size * n_embd)\n",
    "        hpreact = embcat @ W1 + b1\n",
    "        hpreact = bngain * (hpreact - bnmean) * (bnvar + 1e-5)**-0.5 + bnbias\n",
    "        h = torch.tanh(hpreact) # (N, n_hidden)\n",
    "        logits = h @ W2 + b2 # (N, vocab_size)\n",
    "      # ------------\n",
    "      # Sample\n",
    "        probs = F.softmax(logits, dim=1)\n",
    "        ix = torch.multinomial(probs, num_samples=1, generator=g).item()\n",
    "        context = context[1:] + [ix]\n",
    "        out.append(ix)\n",
    "        if ix == 0:\n",
    "            break\n",
    "    \n",
    "    print(''.join(itos[i] for i in out))"
   ]
  },
  {
   "cell_type": "code",
   "execution_count": 463,
   "id": "0d360f06",
   "metadata": {},
   "outputs": [
    {
     "data": {
      "image/jpeg": "[encoded data removed]",
      "text/plain": [
       "<IPython.core.display.Image object>"
      ]
     },
     "metadata": {},
     "output_type": "display_data"
    }
   ],
   "source": [
    "x = Image(filename=r\"C:\\Users\\welcome\\Desktop\\AndrejKarpathy\\final.JPG\")\n",
    "display(x)"
   ]
  },
  {
   "cell_type": "code",
   "execution_count": null,
   "id": "d72e5a22",
   "metadata": {},
   "outputs": [],
   "source": []
  }
 ],
 "metadata": {
  "kernelspec": {
   "display_name": "Python 3 (ipykernel)",
   "language": "python",
   "name": "python3"
  },
  "language_info": {
   "codemirror_mode": {
    "name": "ipython",
    "version": 3
   },
   "file_extension": ".py",
   "mimetype": "text/x-python",
   "name": "python",
   "nbconvert_exporter": "python",
   "pygments_lexer": "ipython3",
   "version": "3.9.12"
  }
 },
 "nbformat": 4,
 "nbformat_minor": 5
}
